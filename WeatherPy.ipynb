{
 "cells": [
  {
   "cell_type": "code",
   "execution_count": 62,
   "metadata": {},
   "outputs": [],
   "source": [
    "import pandas as pd\n",
    "import matplotlib.pyplot as plt\n",
    "import numpy as np"
   ]
  },
  {
   "cell_type": "code",
   "execution_count": 117,
   "metadata": {},
   "outputs": [
    {
     "data": {
      "text/plain": [
       "<zip at 0x7fe299df48c0>"
      ]
     },
     "execution_count": 117,
     "metadata": {},
     "output_type": "execute_result"
    }
   ],
   "source": [
    "lats = np.random.uniform(low=-90.000, high=90.000, size=1500)\n",
    "lngs = np.random.uniform(low=-180.000, high=180.000, size=1500)\n",
    "lat_lngs = zip(lats, lngs)\n",
    "lat_lngs"
   ]
  },
  {
   "cell_type": "code",
   "execution_count": 118,
   "metadata": {},
   "outputs": [],
   "source": [
    "from citipy import citipy"
   ]
  },
  {
   "cell_type": "code",
   "execution_count": 281,
   "metadata": {},
   "outputs": [
    {
     "name": "stdout",
     "output_type": "stream",
     "text": [
      "hami cn\n",
      "dzhusaly kz\n",
      "ciudad bolivar ve\n",
      "torbay ca\n",
      "barentsburg sj\n",
      "amderma ru\n",
      "nago jp\n",
      "sur om\n",
      "kavieng pg\n",
      "norman wells ca\n"
     ]
    }
   ],
   "source": [
    "#x = [25.12903645, 25.92017388, 26.62509167, -59.98969384, 37.30571269]\n",
    "#y = [-67.59741259, 11.09532135, 74.84233102, -76.89176677, -61.13376282]\n",
    "coordinates = zip(lats, lngs)\n",
    "# Use the tuple() function to display the latitude and longitude combinations.\n",
    "for coordinate in coordinates:\n",
    "    print(citipy.nearest_city(coordinate[0], coordinate[1]).city_name,\n",
    "          citipy.nearest_city(coordinate[0], coordinate[1]).country_code)"
   ]
  },
  {
   "cell_type": "code",
   "execution_count": 283,
   "metadata": {},
   "outputs": [
    {
     "data": {
      "text/plain": [
       "10"
      ]
     },
     "execution_count": 283,
     "metadata": {},
     "output_type": "execute_result"
    }
   ],
   "source": [
    "coordinates = zip(lats, lngs)\n",
    "\n",
    "# Create a list for holding the cities.\n",
    "cities = []\n",
    "# Identify the nearest city for each latitude and longitude combination.\n",
    "for coordinate in coordinates:\n",
    "    city = citipy.nearest_city(coordinate[0], coordinate[1]).city_name\n",
    "    # If the city is unique, then we will add it to the cities list.\n",
    "    if city not in cities:\n",
    "        cities.append(city)\n",
    "# Print the city count to confirm sufficient count.\n",
    "len(cities)"
   ]
  },
  {
   "cell_type": "code",
   "execution_count": 284,
   "metadata": {},
   "outputs": [
    {
     "data": {
      "text/plain": [
       "'2.24.0'"
      ]
     },
     "execution_count": 284,
     "metadata": {},
     "output_type": "execute_result"
    }
   ],
   "source": [
    "import requests\n",
    "requests.__version__"
   ]
  },
  {
   "cell_type": "code",
   "execution_count": 285,
   "metadata": {},
   "outputs": [],
   "source": [
    "# Import the datetime module from the datetime library.\n",
    "from datetime import datetime"
   ]
  },
  {
   "cell_type": "code",
   "execution_count": 286,
   "metadata": {},
   "outputs": [],
   "source": [
    "from config import weather_api_key"
   ]
  },
  {
   "cell_type": "code",
   "execution_count": 287,
   "metadata": {},
   "outputs": [
    {
     "name": "stdout",
     "output_type": "stream",
     "text": [
      "http://api.openweathermap.org/data/2.5/weather?units=Imperial&APPID=9b233914f53e6d65b694d53010e3dcc0\n"
     ]
    }
   ],
   "source": [
    "url = \"http://api.openweathermap.org/data/2.5/weather?units=Imperial&APPID=\" + weather_api_key\n",
    "print(url)"
   ]
  },
  {
   "cell_type": "code",
   "execution_count": 288,
   "metadata": {},
   "outputs": [],
   "source": [
    "#Loop through all the cities in our list.\n",
    "for i in range(len(cities)):\n",
    "\n",
    "    # Group cities in sets of 50 for logging purposes.\n",
    "    if (i % 50 == 0 and i >= 50):\n",
    "        set_count += 1\n",
    "        record_count = 1\n",
    "    # Create endpoint URL with each city.\n",
    "    city_url = url + \"&q=\" + cities[i]"
   ]
  },
  {
   "cell_type": "code",
   "execution_count": null,
   "metadata": {},
   "outputs": [],
   "source": []
  },
  {
   "cell_type": "code",
   "execution_count": 289,
   "metadata": {},
   "outputs": [],
   "source": [
    "# Loop through all the cities in our list.\n",
    "for i in range(len(cities)):\n",
    "    # Group cities in sets of 50 for logging purposes.\n",
    "    if (i % 50 == 0 and i >= 50):\n",
    "        set_count += 1\n",
    "        record_count = 1\n",
    "    # Create endpoint URL with each city.\n",
    "    city_url = url + \"&q=\" + cities[i]"
   ]
  },
  {
   "cell_type": "code",
   "execution_count": 290,
   "metadata": {},
   "outputs": [
    {
     "name": "stdout",
     "output_type": "stream",
     "text": [
      "http://api.openweathermap.org/data/2.5/weather?units=Imperial&APPID=9b233914f53e6d65b694d53010e3dcc0&q=norman wells\n"
     ]
    }
   ],
   "source": [
    "print(city_url)"
   ]
  },
  {
   "cell_type": "code",
   "execution_count": 325,
   "metadata": {},
   "outputs": [
    {
     "name": "stdout",
     "output_type": "stream",
     "text": [
      "Beginning Data Retrieval     \n",
      "-----------------------------\n",
      "Processing Record 1 of Set 1 | hami | http://api.openweathermap.org/data/2.5/weather?units=Imperial&APPID=9b233914f53e6d65b694d53010e3dcc0&q=hami\n",
      "Processing Record 2 of Set 1 | dzhusaly | http://api.openweathermap.org/data/2.5/weather?units=Imperial&APPID=9b233914f53e6d65b694d53010e3dcc0&q=dzhusaly\n",
      "City not found. Skipping...\n",
      "Processing Record 3 of Set 1 | ciudad bolivar | http://api.openweathermap.org/data/2.5/weather?units=Imperial&APPID=9b233914f53e6d65b694d53010e3dcc0&q=ciudad+bolivar\n",
      "Processing Record 4 of Set 1 | torbay | http://api.openweathermap.org/data/2.5/weather?units=Imperial&APPID=9b233914f53e6d65b694d53010e3dcc0&q=torbay\n",
      "Processing Record 5 of Set 1 | barentsburg | http://api.openweathermap.org/data/2.5/weather?units=Imperial&APPID=9b233914f53e6d65b694d53010e3dcc0&q=barentsburg\n",
      "City not found. Skipping...\n",
      "Processing Record 6 of Set 1 | amderma | http://api.openweathermap.org/data/2.5/weather?units=Imperial&APPID=9b233914f53e6d65b694d53010e3dcc0&q=amderma\n",
      "City not found. Skipping...\n",
      "Processing Record 7 of Set 1 | nago | http://api.openweathermap.org/data/2.5/weather?units=Imperial&APPID=9b233914f53e6d65b694d53010e3dcc0&q=nago\n",
      "Processing Record 8 of Set 1 | sur | http://api.openweathermap.org/data/2.5/weather?units=Imperial&APPID=9b233914f53e6d65b694d53010e3dcc0&q=sur\n",
      "Processing Record 9 of Set 1 | kavieng | http://api.openweathermap.org/data/2.5/weather?units=Imperial&APPID=9b233914f53e6d65b694d53010e3dcc0&q=kavieng\n",
      "Processing Record 10 of Set 1 | norman wells | http://api.openweathermap.org/data/2.5/weather?units=Imperial&APPID=9b233914f53e6d65b694d53010e3dcc0&q=norman+wells\n",
      "-----------------------------\n",
      "Data Retrieval Complete      \n",
      "-----------------------------\n"
     ]
    }
   ],
   "source": [
    "# Create an empty list to hold the weather data.\n",
    "city_data = []\n",
    "# Print the beginning of the logging.\n",
    "print(\"Beginning Data Retrieval     \")\n",
    "print(\"-----------------------------\")\n",
    "\n",
    "# Create counters.\n",
    "record_count = 1\n",
    "set_count = 1\n",
    "\n",
    "# Loop through all the cities in the list.\n",
    "for i, city in enumerate(cities):\n",
    "\n",
    "    # Group cities in sets of 50 for logging purposes.\n",
    "    if (i % 50 == 0 and i >= 50):\n",
    "        set_count += 1\n",
    "        record_count = 1\n",
    "    # Create endpoint URL with each city.\n",
    "    city_url = url + \"&q=\" + city.replace(\" \",\"+\")\n",
    "\n",
    "    # Log the URL, record, and set numbers and the city.\n",
    "    print(f\"Processing Record {record_count} of Set {set_count} | {city} | {city_url}\")\n",
    "    # Add 1 to the record count.\n",
    "    record_count += 1\n",
    "    try:\n",
    "\n",
    "        # Parse the JSON and retrieve data.\n",
    "        city_weather = requests.get(city_url).json()\n",
    "        # Parse out the needed data.\n",
    "        city_lat = city_weather[\"coord\"][\"lat\"]\n",
    "        city_lng = city_weather[\"coord\"][\"lon\"]\n",
    "        city_max_temp = city_weather[\"main\"][\"temp_max\"]\n",
    "        city_humidity = city_weather[\"main\"][\"humidity\"]\n",
    "        city_clouds = city_weather[\"clouds\"][\"all\"]\n",
    "        city_wind = city_weather[\"wind\"][\"speed\"]\n",
    "        city_country = city_weather[\"sys\"][\"country\"]\n",
    "        # Convert the date to ISO standard.\n",
    "        city_date = datetime.utcfromtimestamp(city_weather[\"dt\"]).strftime('%Y-%m-%d %H:%M:%S')\n",
    "        # Append the city information into city_data list.\n",
    "        city_data.append({\"City\": city.title(),\n",
    "                          \"Lat\": city_lat,\n",
    "                          \"Lng\": city_lng,\n",
    "                          \"Max Temp\": city_max_temp,\n",
    "                          \"Humidity\": city_humidity,\n",
    "                          \"Cloudiness\": city_clouds,\n",
    "                          \"Wind Speed\": city_wind,\n",
    "                          \"Country\": city_country,\n",
    "                          \"Date\": city_date})\n",
    "# If an error is experienced, skip the city.\n",
    "    except:\n",
    "        print(\"City not found. Skipping...\")\n",
    "        pass\n",
    "\n",
    "# Indicate that Data Loading is complete.\n",
    "print(\"-----------------------------\")\n",
    "print(\"Data Retrieval Complete      \")\n",
    "print(\"-----------------------------\")"
   ]
  },
  {
   "cell_type": "code",
   "execution_count": 292,
   "metadata": {},
   "outputs": [],
   "source": [
    "# Run an API request for each of the cities.\n"
   ]
  },
  {
   "cell_type": "code",
   "execution_count": 326,
   "metadata": {},
   "outputs": [
    {
     "data": {
      "text/html": [
       "<div>\n",
       "<style scoped>\n",
       "    .dataframe tbody tr th:only-of-type {\n",
       "        vertical-align: middle;\n",
       "    }\n",
       "\n",
       "    .dataframe tbody tr th {\n",
       "        vertical-align: top;\n",
       "    }\n",
       "\n",
       "    .dataframe thead th {\n",
       "        text-align: right;\n",
       "    }\n",
       "</style>\n",
       "<table border=\"1\" class=\"dataframe\">\n",
       "  <thead>\n",
       "    <tr style=\"text-align: right;\">\n",
       "      <th></th>\n",
       "      <th>City</th>\n",
       "      <th>Lat</th>\n",
       "      <th>Lng</th>\n",
       "      <th>Max Temp</th>\n",
       "      <th>Humidity</th>\n",
       "      <th>Cloudiness</th>\n",
       "      <th>Wind Speed</th>\n",
       "      <th>Country</th>\n",
       "      <th>Date</th>\n",
       "    </tr>\n",
       "  </thead>\n",
       "  <tbody>\n",
       "    <tr>\n",
       "      <th>0</th>\n",
       "      <td>Hami</td>\n",
       "      <td>42.8000</td>\n",
       "      <td>93.4500</td>\n",
       "      <td>19.85</td>\n",
       "      <td>78</td>\n",
       "      <td>0</td>\n",
       "      <td>2.51</td>\n",
       "      <td>CN</td>\n",
       "      <td>2021-01-11 03:32:07</td>\n",
       "    </tr>\n",
       "    <tr>\n",
       "      <th>1</th>\n",
       "      <td>Ciudad Bolivar</td>\n",
       "      <td>8.1222</td>\n",
       "      <td>-63.5497</td>\n",
       "      <td>75.25</td>\n",
       "      <td>85</td>\n",
       "      <td>5</td>\n",
       "      <td>10.71</td>\n",
       "      <td>VE</td>\n",
       "      <td>2021-01-11 03:32:08</td>\n",
       "    </tr>\n",
       "    <tr>\n",
       "      <th>2</th>\n",
       "      <td>Torbay</td>\n",
       "      <td>47.6666</td>\n",
       "      <td>-52.7314</td>\n",
       "      <td>32.00</td>\n",
       "      <td>93</td>\n",
       "      <td>90</td>\n",
       "      <td>23.02</td>\n",
       "      <td>CA</td>\n",
       "      <td>2021-01-11 03:30:26</td>\n",
       "    </tr>\n",
       "    <tr>\n",
       "      <th>3</th>\n",
       "      <td>Nago</td>\n",
       "      <td>26.5881</td>\n",
       "      <td>127.9761</td>\n",
       "      <td>64.40</td>\n",
       "      <td>72</td>\n",
       "      <td>75</td>\n",
       "      <td>6.91</td>\n",
       "      <td>JP</td>\n",
       "      <td>2021-01-11 03:37:20</td>\n",
       "    </tr>\n",
       "    <tr>\n",
       "      <th>4</th>\n",
       "      <td>Sur</td>\n",
       "      <td>22.5667</td>\n",
       "      <td>59.5289</td>\n",
       "      <td>67.30</td>\n",
       "      <td>42</td>\n",
       "      <td>0</td>\n",
       "      <td>10.92</td>\n",
       "      <td>OM</td>\n",
       "      <td>2021-01-11 03:37:20</td>\n",
       "    </tr>\n",
       "    <tr>\n",
       "      <th>5</th>\n",
       "      <td>Kavieng</td>\n",
       "      <td>-2.5744</td>\n",
       "      <td>150.7967</td>\n",
       "      <td>84.29</td>\n",
       "      <td>69</td>\n",
       "      <td>94</td>\n",
       "      <td>4.07</td>\n",
       "      <td>PG</td>\n",
       "      <td>2021-01-11 03:37:21</td>\n",
       "    </tr>\n",
       "    <tr>\n",
       "      <th>6</th>\n",
       "      <td>Norman Wells</td>\n",
       "      <td>65.2820</td>\n",
       "      <td>-126.8329</td>\n",
       "      <td>1.40</td>\n",
       "      <td>85</td>\n",
       "      <td>20</td>\n",
       "      <td>3.44</td>\n",
       "      <td>CA</td>\n",
       "      <td>2021-01-11 03:37:21</td>\n",
       "    </tr>\n",
       "  </tbody>\n",
       "</table>\n",
       "</div>"
      ],
      "text/plain": [
       "             City      Lat       Lng  Max Temp  Humidity  Cloudiness  \\\n",
       "0            Hami  42.8000   93.4500     19.85        78           0   \n",
       "1  Ciudad Bolivar   8.1222  -63.5497     75.25        85           5   \n",
       "2          Torbay  47.6666  -52.7314     32.00        93          90   \n",
       "3            Nago  26.5881  127.9761     64.40        72          75   \n",
       "4             Sur  22.5667   59.5289     67.30        42           0   \n",
       "5         Kavieng  -2.5744  150.7967     84.29        69          94   \n",
       "6    Norman Wells  65.2820 -126.8329      1.40        85          20   \n",
       "\n",
       "   Wind Speed Country                 Date  \n",
       "0        2.51      CN  2021-01-11 03:32:07  \n",
       "1       10.71      VE  2021-01-11 03:32:08  \n",
       "2       23.02      CA  2021-01-11 03:30:26  \n",
       "3        6.91      JP  2021-01-11 03:37:20  \n",
       "4       10.92      OM  2021-01-11 03:37:20  \n",
       "5        4.07      PG  2021-01-11 03:37:21  \n",
       "6        3.44      CA  2021-01-11 03:37:21  "
      ]
     },
     "execution_count": 326,
     "metadata": {},
     "output_type": "execute_result"
    }
   ],
   "source": [
    "# Convert the array of dictionaries to a Pandas DataFrame.\n",
    "city_data_df = pd.DataFrame(city_data)\n",
    "city_data_df.head(10)"
   ]
  },
  {
   "cell_type": "code",
   "execution_count": 294,
   "metadata": {},
   "outputs": [],
   "source": [
    "# Create the output file (CSV).\n",
    "output_data_file = \"weather_data/cities.csv\"\n",
    "# Export the City_Data into a CSV.\n",
    "city_data_df.to_csv(output_data_file, index_label=\"City_ID\")"
   ]
  },
  {
   "cell_type": "code",
   "execution_count": 295,
   "metadata": {},
   "outputs": [],
   "source": [
    "# Extract relevant fields from the DataFrame for plotting.\n",
    "lats = city_data_df[\"Lat\"]\n",
    "max_temps = city_data_df[\"Max Temp\"]\n",
    "humidity = city_data_df[\"Humidity\"]\n",
    "cloudiness = city_data_df[\"Cloudiness\"]\n",
    "wind_speed = city_data_df[\"Wind Speed\"]"
   ]
  },
  {
   "cell_type": "code",
   "execution_count": 296,
   "metadata": {},
   "outputs": [
    {
     "data": {
      "text/plain": [
       "1610335937.692866"
      ]
     },
     "execution_count": 296,
     "metadata": {},
     "output_type": "execute_result"
    }
   ],
   "source": [
    "# Import the time module.\n",
    "import time\n",
    "# Get today's date in seconds.\n",
    "today = time.time()\n",
    "today\n"
   ]
  },
  {
   "cell_type": "code",
   "execution_count": 297,
   "metadata": {},
   "outputs": [
    {
     "data": {
      "image/png": "[encoded data removed]",
      "text/plain": [
       "<Figure size 432x288 with 1 Axes>"
      ]
     },
     "metadata": {
      "needs_background": "light"
     },
     "output_type": "display_data"
    }
   ],
   "source": [
    "# Import time module\n",
    "import time\n",
    "\n",
    "# Build the scatter plot for latitude vs. max temperature.\n",
    "plt.scatter(lats,\n",
    "            max_temps,\n",
    "            edgecolor=\"black\", linewidths=1, marker=\"o\",\n",
    "            alpha=0.8, label=\"Cities\")\n",
    "\n",
    "# Incorporate the other graph properties.\n",
    "plt.title(f\"City Latitude vs. Max Temperature \"+ time.strftime(\"%x\"))\n",
    "plt.ylabel(\"Max Temperature (F)\")\n",
    "plt.xlabel(\"Latitude\")\n",
    "plt.grid(True)\n",
    "\n",
    "# Save the figure.\n",
    "plt.savefig(\"weather_data/Fig1.png\")\n",
    "\n",
    "# Show plot.\n",
    "plt.show()"
   ]
  },
  {
   "cell_type": "code",
   "execution_count": 298,
   "metadata": {},
   "outputs": [
    {
     "data": {
      "image/png": "[encoded data removed]",
      "text/plain": [
       "<Figure size 432x288 with 1 Axes>"
      ]
     },
     "metadata": {
      "needs_background": "light"
     },
     "output_type": "display_data"
    }
   ],
   "source": [
    "# Build the scatter plots for latitude vs. humidity.\n",
    "plt.scatter(lats,\n",
    "            humidity,\n",
    "            edgecolor=\"black\", linewidths=1, marker=\"o\",\n",
    "            alpha=0.8, label=\"Cities\")\n",
    "\n",
    "# Incorporate the other graph properties.\n",
    "plt.title(f\"City Latitude vs. Humidity \"+ time.strftime(\"%x\"))\n",
    "plt.ylabel(\"Humidity (%)\")\n",
    "plt.xlabel(\"Latitude\")\n",
    "plt.grid(True)\n",
    "# Save the figure.\n",
    "plt.savefig(\"weather_data/Fig2.png\")\n",
    "# Show plot.\n",
    "plt.show()"
   ]
  },
  {
   "cell_type": "code",
   "execution_count": 299,
   "metadata": {},
   "outputs": [
    {
     "data": {
      "image/png": "[encoded data removed]",
      "text/plain": [
       "<Figure size 432x288 with 1 Axes>"
      ]
     },
     "metadata": {
      "needs_background": "light"
     },
     "output_type": "display_data"
    }
   ],
   "source": [
    "# Build the scatter plots for latitude vs. cloudiness.\n",
    "plt.scatter(lats,\n",
    "            cloudiness,\n",
    "            edgecolor=\"black\", linewidths=1, marker=\"o\",\n",
    "            alpha=0.8, label=\"Cities\")\n",
    "\n",
    "# Incorporate the other graph properties.\n",
    "plt.title(f\"City Latitude vs. Cloudiness (%) \"+ time.strftime(\"%x\"))\n",
    "plt.ylabel(\"Cloudiness (%)\")\n",
    "plt.xlabel(\"Latitude\")\n",
    "plt.grid(True)\n",
    "# Save the figure.\n",
    "plt.savefig(\"weather_data/Fig3.png\")\n",
    "# Show plot.\n",
    "plt.show()"
   ]
  },
  {
   "cell_type": "code",
   "execution_count": 300,
   "metadata": {},
   "outputs": [
    {
     "data": {
      "image/png": "[encoded data removed]",
      "text/plain": [
       "<Figure size 432x288 with 1 Axes>"
      ]
     },
     "metadata": {
      "needs_background": "light"
     },
     "output_type": "display_data"
    }
   ],
   "source": [
    "# Build the scatter plots for latitude vs. wind speed.\n",
    "plt.scatter(lats,\n",
    "            wind_speed,\n",
    "            edgecolor=\"black\", linewidths=1, marker=\"o\",\n",
    "            alpha=0.8, label=\"Cities\")\n",
    "\n",
    "# Incorporate the other graph properties.\n",
    "plt.title(f\"City Latitude vs. Wind Speed \"+ time.strftime(\"%x\"))\n",
    "plt.ylabel(\"Wind Speed (mph)\")\n",
    "plt.xlabel(\"Latitude\")\n",
    "plt.grid(True)\n",
    "# Save the figure.\n",
    "plt.savefig(\"weather_data/Fig4.png\")\n",
    "# Show plot.\n",
    "plt.show()"
   ]
  },
  {
   "cell_type": "code",
   "execution_count": 301,
   "metadata": {},
   "outputs": [],
   "source": [
    "# Import linear regression from the SciPy stats module.\n",
    "from scipy.stats import linregress as stats"
   ]
  },
  {
   "cell_type": "code",
   "execution_count": 302,
   "metadata": {},
   "outputs": [],
   "source": [
    "# Create an equal number of latitudes and temperatures.\n",
    "lats = [42.5, 43.9, 8.1, 36.8, 79.9, 69.1, 25.7, 15.3, 12.7, 64.5]\n",
    "temps = [80.5, 75.3, 90.9, 90.0, 40.4, 62.3, 85.4, 79.6, 72.5, 72.0]\n"
   ]
  },
  {
   "cell_type": "code",
   "execution_count": 303,
   "metadata": {},
   "outputs": [
    {
     "name": "stdout",
     "output_type": "stream",
     "text": [
      "y = -0.45x + 92.94\n",
      "The p-value is: 0.011\n"
     ]
    }
   ],
   "source": [
    "# Perform linear regression.\n",
    "(slope, intercept, r_value, p_value, std_err) = linregress(lats, temps)\n",
    "# Get the equation of the line.\n",
    "line_eq = \"y = \" + str(round(slope,2)) + \"x + \" + str(round(intercept,2))\n",
    "print(line_eq)\n",
    "print(f\"The p-value is: {p_value:.3f}\")"
   ]
  },
  {
   "cell_type": "code",
   "execution_count": 304,
   "metadata": {},
   "outputs": [],
   "source": [
    "# Calculate the regression line \"y values\" from the slope and intercept.\n",
    "regress_values = [(lat * slope + intercept) for lat in lats]\n"
   ]
  },
  {
   "cell_type": "code",
   "execution_count": 305,
   "metadata": {},
   "outputs": [],
   "source": [
    "# Import linregress\n",
    "from scipy.stats import linregress\n",
    "\n",
    "# Create a function to create perform linear regression on the weather data\n",
    "# and plot a regression line and the equation with the data.\n",
    "def plot_linear_regression(x_values, y_values, title, y_label, text_coordinates):\n",
    "\n",
    "    # Run regression on hemisphere weather data.\n",
    "    (slope, intercept, r_value, p_value, std_err) = linregress(x_values, y_values)\n",
    "\n",
    "    # Calculate the regression line \"y values\" from the slope and intercept.\n",
    "    regress_values = x_values * slope + intercept\n",
    "    # Get the equation of the line.\n",
    "    line_eq = \"y = \" + str(round(slope,2)) + \"x + \" + str(round(intercept,2))\n",
    "    # Create a scatter plot and plot the regression line.\n",
    "    plt.scatter(x_values,y_values)\n",
    "    plt.plot(x_values,regress_values,\"r\")\n",
    "    # Annotate the text for the line equation.\n",
    "    plt.annotate(line_eq, text_coordinates, fontsize=15, color=\"red\")\n",
    "    plt.xlabel('Latitude')\n",
    "    plt.ylabel(y_label)\n",
    "    plt.show()"
   ]
  },
  {
   "cell_type": "code",
   "execution_count": 306,
   "metadata": {},
   "outputs": [
    {
     "data": {
      "text/html": [
       "<div>\n",
       "<style scoped>\n",
       "    .dataframe tbody tr th:only-of-type {\n",
       "        vertical-align: middle;\n",
       "    }\n",
       "\n",
       "    .dataframe tbody tr th {\n",
       "        vertical-align: top;\n",
       "    }\n",
       "\n",
       "    .dataframe thead th {\n",
       "        text-align: right;\n",
       "    }\n",
       "</style>\n",
       "<table border=\"1\" class=\"dataframe\">\n",
       "  <thead>\n",
       "    <tr style=\"text-align: right;\">\n",
       "      <th></th>\n",
       "      <th>City</th>\n",
       "      <th>Lat</th>\n",
       "      <th>Lng</th>\n",
       "      <th>Max Temp</th>\n",
       "      <th>Humidity</th>\n",
       "      <th>Cloudiness</th>\n",
       "      <th>Wind Speed</th>\n",
       "      <th>Country</th>\n",
       "      <th>Date</th>\n",
       "    </tr>\n",
       "  </thead>\n",
       "  <tbody>\n",
       "    <tr>\n",
       "      <th>0</th>\n",
       "      <td>Hami</td>\n",
       "      <td>42.8000</td>\n",
       "      <td>93.4500</td>\n",
       "      <td>19.85</td>\n",
       "      <td>78</td>\n",
       "      <td>0</td>\n",
       "      <td>2.51</td>\n",
       "      <td>CN</td>\n",
       "      <td>2021-01-11 03:32:07</td>\n",
       "    </tr>\n",
       "    <tr>\n",
       "      <th>1</th>\n",
       "      <td>Ciudad Bolivar</td>\n",
       "      <td>8.1222</td>\n",
       "      <td>-63.5497</td>\n",
       "      <td>75.25</td>\n",
       "      <td>85</td>\n",
       "      <td>5</td>\n",
       "      <td>10.71</td>\n",
       "      <td>VE</td>\n",
       "      <td>2021-01-11 03:32:08</td>\n",
       "    </tr>\n",
       "    <tr>\n",
       "      <th>2</th>\n",
       "      <td>Torbay</td>\n",
       "      <td>47.6666</td>\n",
       "      <td>-52.7314</td>\n",
       "      <td>32.00</td>\n",
       "      <td>93</td>\n",
       "      <td>90</td>\n",
       "      <td>23.02</td>\n",
       "      <td>CA</td>\n",
       "      <td>2021-01-11 03:30:26</td>\n",
       "    </tr>\n",
       "    <tr>\n",
       "      <th>3</th>\n",
       "      <td>Nago</td>\n",
       "      <td>26.5881</td>\n",
       "      <td>127.9761</td>\n",
       "      <td>64.40</td>\n",
       "      <td>72</td>\n",
       "      <td>75</td>\n",
       "      <td>6.91</td>\n",
       "      <td>JP</td>\n",
       "      <td>2021-01-11 03:32:08</td>\n",
       "    </tr>\n",
       "    <tr>\n",
       "      <th>4</th>\n",
       "      <td>Sur</td>\n",
       "      <td>22.5667</td>\n",
       "      <td>59.5289</td>\n",
       "      <td>67.30</td>\n",
       "      <td>42</td>\n",
       "      <td>0</td>\n",
       "      <td>10.92</td>\n",
       "      <td>OM</td>\n",
       "      <td>2021-01-11 03:32:09</td>\n",
       "    </tr>\n",
       "  </tbody>\n",
       "</table>\n",
       "</div>"
      ],
      "text/plain": [
       "             City      Lat       Lng  Max Temp  Humidity  Cloudiness  \\\n",
       "0            Hami  42.8000   93.4500     19.85        78           0   \n",
       "1  Ciudad Bolivar   8.1222  -63.5497     75.25        85           5   \n",
       "2          Torbay  47.6666  -52.7314     32.00        93          90   \n",
       "3            Nago  26.5881  127.9761     64.40        72          75   \n",
       "4             Sur  22.5667   59.5289     67.30        42           0   \n",
       "\n",
       "   Wind Speed Country                 Date  \n",
       "0        2.51      CN  2021-01-11 03:32:07  \n",
       "1       10.71      VE  2021-01-11 03:32:08  \n",
       "2       23.02      CA  2021-01-11 03:30:26  \n",
       "3        6.91      JP  2021-01-11 03:32:08  \n",
       "4       10.92      OM  2021-01-11 03:32:09  "
      ]
     },
     "execution_count": 306,
     "metadata": {},
     "output_type": "execute_result"
    }
   ],
   "source": [
    "northern_hemi_df=city_data_df.loc[(city_data_df[\"Lat\"] >= 0)].head()\n",
    "northern_hemi_df"
   ]
  },
  {
   "cell_type": "code",
   "execution_count": 307,
   "metadata": {},
   "outputs": [
    {
     "data": {
      "image/png": "[encoded data removed]",
      "text/plain": [
       "<Figure size 432x288 with 1 Axes>"
      ]
     },
     "metadata": {
      "needs_background": "light"
     },
     "output_type": "display_data"
    }
   ],
   "source": [
    "# Linear regression on the Northern Hemisphere\n",
    "x_values = northern_hemi_df[\"Lat\"]\n",
    "y_values = northern_hemi_df[\"Max Temp\"]\n",
    "# Call the function.\n",
    "plot_linear_regression(x_values, y_values,'Linear Regression on the Northern Hemisphere \\\n",
    "                        for Maximum Temperature', 'Max Temp',(10,40))"
   ]
  },
  {
   "cell_type": "code",
   "execution_count": 308,
   "metadata": {},
   "outputs": [
    {
     "data": {
      "image/png": "[encoded data removed]",
      "text/plain": [
       "<Figure size 432x288 with 1 Axes>"
      ]
     },
     "metadata": {
      "needs_background": "light"
     },
     "output_type": "display_data"
    }
   ],
   "source": [
    "southern_hemi_df=city_data_df.loc[(city_data_df[\"Lat\"] >= 0)].head()\n",
    "# Linear regression on the Southern Hemisphere\n",
    "x_values = southern_hemi_df[\"Lat\"]\n",
    "y_values = southern_hemi_df[\"Max Temp\"]\n",
    "# Call the function.\n",
    "plot_linear_regression(x_values, y_values,'Linear Regression on the Southern Hemisphere \\for Maximum Temperature', 'Max Temp',(-50,90))"
   ]
  },
  {
   "cell_type": "code",
   "execution_count": 309,
   "metadata": {},
   "outputs": [
    {
     "data": {
      "image/png": "[encoded data removed]",
      "text/plain": [
       "<Figure size 432x288 with 1 Axes>"
      ]
     },
     "metadata": {
      "needs_background": "light"
     },
     "output_type": "display_data"
    }
   ],
   "source": [
    "# Linear regression on the Northern Hemisphere\n",
    "x_values = northern_hemi_df[\"Lat\"]\n",
    "y_values = northern_hemi_df[\"Humidity\"]\n",
    "# Call the function.\n",
    "plot_linear_regression(x_values, y_values,\n",
    "                       'Linear Regression on the Northern Hemisphere \\\n",
    "                        for % Humidity', '% Humidity',(40,10))\n"
   ]
  },
  {
   "cell_type": "code",
   "execution_count": 310,
   "metadata": {},
   "outputs": [
    {
     "data": {
      "image/png": "[encoded data removed]",
      "text/plain": [
       "<Figure size 432x288 with 1 Axes>"
      ]
     },
     "metadata": {
      "needs_background": "light"
     },
     "output_type": "display_data"
    }
   ],
   "source": [
    "# Linear regression on the Southern Hemisphere\n",
    "x_values = southern_hemi_df[\"Lat\"]\n",
    "y_values = southern_hemi_df[\"Cloudiness\"]\n",
    "# Call the function.\n",
    "plot_linear_regression(x_values, y_values,'Linear Regression on the Southern Hemisphere \\n for % Cloudiness', '% Cloudiness',(-50,60))"
   ]
  },
  {
   "cell_type": "code",
   "execution_count": 311,
   "metadata": {},
   "outputs": [
    {
     "data": {
      "image/png": "[encoded data removed]",
      "text/plain": [
       "<Figure size 432x288 with 1 Axes>"
      ]
     },
     "metadata": {
      "needs_background": "light"
     },
     "output_type": "display_data"
    }
   ],
   "source": [
    "# Linear regression on the Northern Hemisphere\n",
    "x_values = northern_hemi_df[\"Lat\"]\n",
    "y_values = northern_hemi_df[\"Wind Speed\"]\n",
    "# Call the function.\n",
    "plot_linear_regression(x_values, y_values,'Linear Regression on the Northern Hemisphere \\n for Wind Speed', 'Wind Speed',(40,35))\n"
   ]
  },
  {
   "cell_type": "code",
   "execution_count": 312,
   "metadata": {},
   "outputs": [
    {
     "data": {
      "image/png": "[encoded data removed]",
      "text/plain": [
       "<Figure size 432x288 with 1 Axes>"
      ]
     },
     "metadata": {
      "needs_background": "light"
     },
     "output_type": "display_data"
    }
   ],
   "source": [
    "# Linear regression on the Southern Hemisphere\n",
    "x_values = southern_hemi_df[\"Lat\"]\n",
    "y_values = southern_hemi_df[\"Wind Speed\"]\n",
    "# Call the function.\n",
    "plot_linear_regression(x_values, y_values,'Linear Regression on the Southern Hemisphere \\n for Wind Speed', 'Wind Speed',(-50,35))"
   ]
  },
  {
   "cell_type": "code",
   "execution_count": 4,
   "metadata": {},
   "outputs": [],
   "source": [
    "# Import the dependencies.\n",
    "import pandas as pd\n",
    "import gmaps\n",
    "import requests\n",
    "# Import the API key.\n",
    "from config import g_key"
   ]
  },
  {
   "cell_type": "code",
   "execution_count": 5,
   "metadata": {},
   "outputs": [
    {
     "data": {
      "text/html": [
       "<div>\n",
       "<style scoped>\n",
       "    .dataframe tbody tr th:only-of-type {\n",
       "        vertical-align: middle;\n",
       "    }\n",
       "\n",
       "    .dataframe tbody tr th {\n",
       "        vertical-align: top;\n",
       "    }\n",
       "\n",
       "    .dataframe thead th {\n",
       "        text-align: right;\n",
       "    }\n",
       "</style>\n",
       "<table border=\"1\" class=\"dataframe\">\n",
       "  <thead>\n",
       "    <tr style=\"text-align: right;\">\n",
       "      <th></th>\n",
       "      <th>City_ID</th>\n",
       "      <th>City</th>\n",
       "      <th>Lat</th>\n",
       "      <th>Lng</th>\n",
       "      <th>Max Temp</th>\n",
       "      <th>Humidity</th>\n",
       "      <th>Cloudiness</th>\n",
       "      <th>Wind Speed</th>\n",
       "      <th>Country</th>\n",
       "      <th>Date</th>\n",
       "    </tr>\n",
       "  </thead>\n",
       "  <tbody>\n",
       "    <tr>\n",
       "      <th>0</th>\n",
       "      <td>0</td>\n",
       "      <td>Hami</td>\n",
       "      <td>42.8000</td>\n",
       "      <td>93.4500</td>\n",
       "      <td>19.85</td>\n",
       "      <td>78</td>\n",
       "      <td>0</td>\n",
       "      <td>2.51</td>\n",
       "      <td>CN</td>\n",
       "      <td>2021-01-11 03:32:07</td>\n",
       "    </tr>\n",
       "    <tr>\n",
       "      <th>1</th>\n",
       "      <td>1</td>\n",
       "      <td>Ciudad Bolivar</td>\n",
       "      <td>8.1222</td>\n",
       "      <td>-63.5497</td>\n",
       "      <td>75.25</td>\n",
       "      <td>85</td>\n",
       "      <td>5</td>\n",
       "      <td>10.71</td>\n",
       "      <td>VE</td>\n",
       "      <td>2021-01-11 03:32:08</td>\n",
       "    </tr>\n",
       "    <tr>\n",
       "      <th>2</th>\n",
       "      <td>2</td>\n",
       "      <td>Torbay</td>\n",
       "      <td>47.6666</td>\n",
       "      <td>-52.7314</td>\n",
       "      <td>32.00</td>\n",
       "      <td>93</td>\n",
       "      <td>90</td>\n",
       "      <td>23.02</td>\n",
       "      <td>CA</td>\n",
       "      <td>2021-01-11 03:30:26</td>\n",
       "    </tr>\n",
       "    <tr>\n",
       "      <th>3</th>\n",
       "      <td>3</td>\n",
       "      <td>Nago</td>\n",
       "      <td>26.5881</td>\n",
       "      <td>127.9761</td>\n",
       "      <td>64.40</td>\n",
       "      <td>72</td>\n",
       "      <td>75</td>\n",
       "      <td>6.91</td>\n",
       "      <td>JP</td>\n",
       "      <td>2021-01-11 03:32:08</td>\n",
       "    </tr>\n",
       "    <tr>\n",
       "      <th>4</th>\n",
       "      <td>4</td>\n",
       "      <td>Sur</td>\n",
       "      <td>22.5667</td>\n",
       "      <td>59.5289</td>\n",
       "      <td>67.30</td>\n",
       "      <td>42</td>\n",
       "      <td>0</td>\n",
       "      <td>10.92</td>\n",
       "      <td>OM</td>\n",
       "      <td>2021-01-11 03:32:09</td>\n",
       "    </tr>\n",
       "  </tbody>\n",
       "</table>\n",
       "</div>"
      ],
      "text/plain": [
       "   City_ID            City      Lat       Lng  Max Temp  Humidity  Cloudiness  \\\n",
       "0        0            Hami  42.8000   93.4500     19.85        78           0   \n",
       "1        1  Ciudad Bolivar   8.1222  -63.5497     75.25        85           5   \n",
       "2        2          Torbay  47.6666  -52.7314     32.00        93          90   \n",
       "3        3            Nago  26.5881  127.9761     64.40        72          75   \n",
       "4        4             Sur  22.5667   59.5289     67.30        42           0   \n",
       "\n",
       "   Wind Speed Country                 Date  \n",
       "0        2.51      CN  2021-01-11 03:32:07  \n",
       "1       10.71      VE  2021-01-11 03:32:08  \n",
       "2       23.02      CA  2021-01-11 03:30:26  \n",
       "3        6.91      JP  2021-01-11 03:32:08  \n",
       "4       10.92      OM  2021-01-11 03:32:09  "
      ]
     },
     "execution_count": 5,
     "metadata": {},
     "output_type": "execute_result"
    }
   ],
   "source": [
    "# Store the CSV you saved created in part one into a DataFrame.\n",
    "city_data_df = pd.read_csv(\"weather_data/cities.csv\")\n",
    "city_data_df.head()"
   ]
  },
  {
   "cell_type": "code",
   "execution_count": 6,
   "metadata": {},
   "outputs": [],
   "source": [
    "# Configure gmaps to use your Google API key.\n",
    "gmaps.configure(api_key=g_key)"
   ]
  },
  {
   "cell_type": "code",
   "execution_count": 7,
   "metadata": {},
   "outputs": [
    {
     "data": {
      "application/vnd.jupyter.widget-view+json": {
       "model_id": "2b39af2608424ff099a6a6607bea5c74",
       "version_major": 2,
       "version_minor": 0
      },
      "text/plain": [
       "Figure(layout=FigureLayout(height='420px'))"
      ]
     },
     "metadata": {},
     "output_type": "display_data"
    }
   ],
   "source": [
    "# Heatmap of temperature\n",
    "# Get the latitude and longitude.\n",
    "locations = city_data_df[[\"Lat\", \"Lng\"]]\n",
    "# Get the maximum temperature.\n",
    "max_temp = city_data_df[\"Max Temp\"]\n",
    "# Assign the figure variable.\n",
    "fig = gmaps.figure()\n",
    "# Assign the heatmap variable.\n",
    "#heat_layer = gmaps.heatmap_layer(locations, weights=max_temp)\n",
    "heat_layer = gmaps.heatmap_layer(locations, weights=[max(temp, 0) for temp in max_temp])\n",
    "# Add the heatmap layer.\n",
    "fig.add_layer(heat_layer)\n",
    "# Call the figure to plot the data.\n",
    "fig"
   ]
  },
  {
   "cell_type": "code",
   "execution_count": 8,
   "metadata": {},
   "outputs": [],
   "source": [
    "heat_layer = gmaps.heatmap_layer(locations, weights=max_temp)\n"
   ]
  },
  {
   "cell_type": "code",
   "execution_count": 9,
   "metadata": {},
   "outputs": [],
   "source": [
    "# Get the maximum temperature.\n",
    "max_temp = city_data_df[\"Max Temp\"]\n",
    "temps = []\n",
    "for temp in max_temp:\n",
    "    temps.append(max(temp, 0))"
   ]
  },
  {
   "cell_type": "code",
   "execution_count": 10,
   "metadata": {},
   "outputs": [],
   "source": [
    "heat_layer = gmaps.heatmap_layer(locations, weights=[max(temp, 0) for temp in max_temp])"
   ]
  },
  {
   "cell_type": "code",
   "execution_count": 11,
   "metadata": {},
   "outputs": [
    {
     "data": {
      "application/vnd.jupyter.widget-view+json": {
       "model_id": "045d2cd01be74a639eeafd6cfe9fb556",
       "version_major": 2,
       "version_minor": 0
      },
      "text/plain": [
       "Figure(layout=FigureLayout(height='420px'))"
      ]
     },
     "metadata": {},
     "output_type": "display_data"
    }
   ],
   "source": [
    "# Heatmap of percent humidity\n",
    "locations = city_data_df[[\"Lat\", \"Lng\"]]\n",
    "humidity = city_data_df[\"Humidity\"]\n",
    "fig = gmaps.figure(center=(30.0, 31.0), zoom_level=1.5)\n",
    "heat_layer = gmaps.heatmap_layer(locations, weights=humidity, dissipating=False, max_intensity=300, point_radius=4)\n",
    "\n",
    "fig.add_layer(heat_layer)\n",
    "# Call the figure to plot the data.\n",
    "fig"
   ]
  },
  {
   "cell_type": "code",
   "execution_count": 12,
   "metadata": {},
   "outputs": [
    {
     "name": "stdout",
     "output_type": "stream",
     "text": [
      "What is the minimum temperature you would like for your trip? 75\n",
      "What is the maximum temperature you would like for your trip? 90\n"
     ]
    }
   ],
   "source": [
    "# Ask the customer to add a minimum and maximum temperature value.\n",
    "min_temp = float(input(\"What is the minimum temperature you would like for your trip? \"))\n",
    "max_temp = float(input(\"What is the maximum temperature you would like for your trip? \"))\n"
   ]
  },
  {
   "cell_type": "code",
   "execution_count": 14,
   "metadata": {},
   "outputs": [
    {
     "data": {
      "text/html": [
       "<div>\n",
       "<style scoped>\n",
       "    .dataframe tbody tr th:only-of-type {\n",
       "        vertical-align: middle;\n",
       "    }\n",
       "\n",
       "    .dataframe tbody tr th {\n",
       "        vertical-align: top;\n",
       "    }\n",
       "\n",
       "    .dataframe thead th {\n",
       "        text-align: right;\n",
       "    }\n",
       "</style>\n",
       "<table border=\"1\" class=\"dataframe\">\n",
       "  <thead>\n",
       "    <tr style=\"text-align: right;\">\n",
       "      <th></th>\n",
       "      <th>City_ID</th>\n",
       "      <th>City</th>\n",
       "      <th>Lat</th>\n",
       "      <th>Lng</th>\n",
       "      <th>Max Temp</th>\n",
       "      <th>Humidity</th>\n",
       "      <th>Cloudiness</th>\n",
       "      <th>Wind Speed</th>\n",
       "      <th>Country</th>\n",
       "      <th>Date</th>\n",
       "    </tr>\n",
       "  </thead>\n",
       "  <tbody>\n",
       "    <tr>\n",
       "      <th>1</th>\n",
       "      <td>1</td>\n",
       "      <td>Ciudad Bolivar</td>\n",
       "      <td>8.1222</td>\n",
       "      <td>-63.5497</td>\n",
       "      <td>75.25</td>\n",
       "      <td>85</td>\n",
       "      <td>5</td>\n",
       "      <td>10.71</td>\n",
       "      <td>VE</td>\n",
       "      <td>2021-01-11 03:32:08</td>\n",
       "    </tr>\n",
       "    <tr>\n",
       "      <th>5</th>\n",
       "      <td>5</td>\n",
       "      <td>Kavieng</td>\n",
       "      <td>-2.5744</td>\n",
       "      <td>150.7967</td>\n",
       "      <td>84.29</td>\n",
       "      <td>69</td>\n",
       "      <td>94</td>\n",
       "      <td>4.07</td>\n",
       "      <td>PG</td>\n",
       "      <td>2021-01-11 03:32:09</td>\n",
       "    </tr>\n",
       "  </tbody>\n",
       "</table>\n",
       "</div>"
      ],
      "text/plain": [
       "   City_ID            City     Lat       Lng  Max Temp  Humidity  Cloudiness  \\\n",
       "1        1  Ciudad Bolivar  8.1222  -63.5497     75.25        85           5   \n",
       "5        5         Kavieng -2.5744  150.7967     84.29        69          94   \n",
       "\n",
       "   Wind Speed Country                 Date  \n",
       "1       10.71      VE  2021-01-11 03:32:08  \n",
       "5        4.07      PG  2021-01-11 03:32:09  "
      ]
     },
     "execution_count": 14,
     "metadata": {},
     "output_type": "execute_result"
    }
   ],
   "source": [
    "# Filter the dataset to find the cities that fit the criteria.\n",
    "preferred_cities_df = city_data_df.loc[(city_data_df[\"Max Temp\"] <= max_temp) & \\\n",
    "                                       (city_data_df[\"Max Temp\"] >= min_temp)]\n",
    "preferred_cities_df.head(10)"
   ]
  },
  {
   "cell_type": "markdown",
   "metadata": {},
   "source": [
    "preferred_cities_df.notnull().sum()"
   ]
  },
  {
   "cell_type": "code",
   "execution_count": 15,
   "metadata": {},
   "outputs": [
    {
     "data": {
      "text/html": [
       "<div>\n",
       "<style scoped>\n",
       "    .dataframe tbody tr th:only-of-type {\n",
       "        vertical-align: middle;\n",
       "    }\n",
       "\n",
       "    .dataframe tbody tr th {\n",
       "        vertical-align: top;\n",
       "    }\n",
       "\n",
       "    .dataframe thead th {\n",
       "        text-align: right;\n",
       "    }\n",
       "</style>\n",
       "<table border=\"1\" class=\"dataframe\">\n",
       "  <thead>\n",
       "    <tr style=\"text-align: right;\">\n",
       "      <th></th>\n",
       "      <th>City</th>\n",
       "      <th>Country</th>\n",
       "      <th>Max Temp</th>\n",
       "      <th>Lat</th>\n",
       "      <th>Lng</th>\n",
       "      <th>Hotel Name</th>\n",
       "    </tr>\n",
       "  </thead>\n",
       "  <tbody>\n",
       "    <tr>\n",
       "      <th>1</th>\n",
       "      <td>Ciudad Bolivar</td>\n",
       "      <td>VE</td>\n",
       "      <td>75.25</td>\n",
       "      <td>8.1222</td>\n",
       "      <td>-63.5497</td>\n",
       "      <td></td>\n",
       "    </tr>\n",
       "    <tr>\n",
       "      <th>5</th>\n",
       "      <td>Kavieng</td>\n",
       "      <td>PG</td>\n",
       "      <td>84.29</td>\n",
       "      <td>-2.5744</td>\n",
       "      <td>150.7967</td>\n",
       "      <td></td>\n",
       "    </tr>\n",
       "  </tbody>\n",
       "</table>\n",
       "</div>"
      ],
      "text/plain": [
       "             City Country  Max Temp     Lat       Lng Hotel Name\n",
       "1  Ciudad Bolivar      VE     75.25  8.1222  -63.5497           \n",
       "5         Kavieng      PG     84.29 -2.5744  150.7967           "
      ]
     },
     "execution_count": 15,
     "metadata": {},
     "output_type": "execute_result"
    }
   ],
   "source": [
    "# Create DataFrame called hotel_df to store hotel names along with city, country, max temp, and coordinates.\n",
    "hotel_df = preferred_cities_df[[\"City\", \"Country\", \"Max Temp\", \"Lat\", \"Lng\"]].copy()\n",
    "hotel_df[\"Hotel Name\"] = \"\"\n",
    "hotel_df.head(10)"
   ]
  },
  {
   "cell_type": "code",
   "execution_count": 16,
   "metadata": {},
   "outputs": [
    {
     "data": {
      "text/plain": [
       "{'html_attributions': [],\n",
       " 'next_page_token': 'ATtYBwIRPTgDqVa5FUvOO6lVZKTOXXc4OnAl9DMYE-aSTFZe1ldIoi784DJW3p73n-EtkbopTIwwkGdA4YouEAIP3flVrGRVHeCTVpYvaY2UoNAoDpm8JRQcgieagKUZdp5Z50bFKUIgoOsQsiiG4M59csGiq8Hs_8yOgfeqisK8fd5SIcI6vB-wYaSRjNFf3Uq-b-pkmI2Zv_yWli6ebI9bP67kld5JwOEaVlpfP8Oi_YBxmbzRi9svZpODi76P-mQwPADayL2P1HAs3dcZIMwHTb60Wv4tsqi776qrcAHtdfD-2-E7Lq3xLGhhwzbKwEnUyPgxuMrW7H8F32wcl-ZoqG51G8JcZLVSbxZ8_fk_WPG1fwsKPD1CaEK763Dk_wLD_81LjN-4QDNsXz9IKbHhmonxyIRJvRI1jLrexMYLNQ6Hnm1JSJBUWQO5',\n",
       " 'results': [{'business_status': 'OPERATIONAL',\n",
       "   'geometry': {'location': {'lat': 48.8581126, 'lng': 2.3529277},\n",
       "    'viewport': {'northeast': {'lat': 48.8594393802915,\n",
       "      'lng': 2.354352980291502},\n",
       "     'southwest': {'lat': 48.8567414197085, 'lng': 2.351655019708498}}},\n",
       "   'icon': 'https://maps.gstatic.com/mapfiles/place_api/icons/v1/png_71/lodging-71.png',\n",
       "   'name': 'Hôtel Duo',\n",
       "   'opening_hours': {'open_now': True},\n",
       "   'photos': [{'height': 3840,\n",
       "     'html_attributions': ['<a href=\"https://maps.google.com/maps/contrib/107554201425443337224\">Hôtel Duo</a>'],\n",
       "     'photo_reference': 'ATtYBwLQ3z1JFKcq1MkSwFsbg55zSM6uR8PbriRN7zhmcvmURRUpFBVfhRRs9En5Ze06EP7oqPpnzj1mnA60H3e_S8iwu_dGGFsQPEF8Jfv-cjy8iygrUSInZqZw9eN6lubrk-7T2zxb8beTvz_o4jdOOIGaGYYBgdpHJ4c6EKzkop13N_wD',\n",
       "     'width': 5760}],\n",
       "   'place_id': 'ChIJWU9CqB1u5kcR5P1F2SMoJmc',\n",
       "   'plus_code': {'compound_code': 'V953+65 Paris, France',\n",
       "    'global_code': '8FW4V953+65'},\n",
       "   'rating': 4.2,\n",
       "   'reference': 'ChIJWU9CqB1u5kcR5P1F2SMoJmc',\n",
       "   'scope': 'GOOGLE',\n",
       "   'types': ['night_club',\n",
       "    'spa',\n",
       "    'lodging',\n",
       "    'bar',\n",
       "    'gym',\n",
       "    'health',\n",
       "    'point_of_interest',\n",
       "    'establishment'],\n",
       "   'user_ratings_total': 278,\n",
       "   'vicinity': '11 Rue du Temple, Paris'},\n",
       "  {'business_status': 'OPERATIONAL',\n",
       "   'geometry': {'location': {'lat': 48.8582861, 'lng': 2.3464944},\n",
       "    'viewport': {'northeast': {'lat': 48.8595495802915,\n",
       "      'lng': 2.347780980291502},\n",
       "     'southwest': {'lat': 48.8568516197085, 'lng': 2.345083019708498}}},\n",
       "   'icon': 'https://maps.gstatic.com/mapfiles/place_api/icons/v1/png_71/lodging-71.png',\n",
       "   'name': 'Hôtel Britannique',\n",
       "   'opening_hours': {'open_now': True},\n",
       "   'photos': [{'height': 546,\n",
       "     'html_attributions': ['<a href=\"https://maps.google.com/maps/contrib/108984000175492464929\">Hôtel Britannique - Paris Louvre</a>'],\n",
       "     'photo_reference': 'ATtYBwJA2uDfprddKVVt5Z19Z0Y7lRPGf6qr99507f_CT-KJri5Rww_wKSAVSKd6V54jDi8I8sDS6j7LwrNkyIGDFA97MrE0LjVVfE-h6yFzpxoOv1-BVJP4Ak9daIR5AmCG1tz2h3etVePPDmGBUkr5KD4T0MuWtfgTcXIRFkwZ3lRa0Gu1',\n",
       "     'width': 1024}],\n",
       "   'place_id': 'ChIJ-4Siox9u5kcRm9vM6DcMXyU',\n",
       "   'plus_code': {'compound_code': 'V85W+8H Paris, France',\n",
       "    'global_code': '8FW4V85W+8H'},\n",
       "   'rating': 4.6,\n",
       "   'reference': 'ChIJ-4Siox9u5kcRm9vM6DcMXyU',\n",
       "   'scope': 'GOOGLE',\n",
       "   'types': ['lodging', 'point_of_interest', 'establishment'],\n",
       "   'user_ratings_total': 403,\n",
       "   'vicinity': '20 Avenue Victoria, Paris'},\n",
       "  {'business_status': 'CLOSED_TEMPORARILY',\n",
       "   'geometry': {'location': {'lat': 48.8606655, 'lng': 2.3469293},\n",
       "    'viewport': {'northeast': {'lat': 48.8618387802915,\n",
       "      'lng': 2.348475730291502},\n",
       "     'southwest': {'lat': 48.85914081970851, 'lng': 2.345777769708498}}},\n",
       "   'icon': 'https://maps.gstatic.com/mapfiles/place_api/icons/v1/png_71/lodging-71.png',\n",
       "   'name': 'Citadines Les Halles Paris (Apart Hotel Paris)',\n",
       "   'permanently_closed': True,\n",
       "   'photos': [{'height': 496,\n",
       "     'html_attributions': ['<a href=\"https://maps.google.com/maps/contrib/102565262508115704337\">Citadines Les Halles Paris (Apart Hotel Paris)</a>'],\n",
       "     'photo_reference': 'ATtYBwJpQhE1s8Y9ZAg6QI251BEYE897cIDsopVSgKALwIdoa4XO83C-LPWV4_OuC7k77XrqJq1bysT9ObGisyqWq6S5_qxsNoWT-v6NAskNbyuSVV1MBBLkSp7ZKtJ-B7GOAlBQDHPFFpH44tsxUuwLu1N0pQLfAQP-hUppyi99kCdrPAfm',\n",
       "     'width': 745}],\n",
       "   'place_id': 'ChIJQ_QDrxhu5kcRJzNxLLEOSfU',\n",
       "   'plus_code': {'compound_code': 'V86W+7Q Paris, France',\n",
       "    'global_code': '8FW4V86W+7Q'},\n",
       "   'rating': 4.1,\n",
       "   'reference': 'ChIJQ_QDrxhu5kcRJzNxLLEOSfU',\n",
       "   'scope': 'GOOGLE',\n",
       "   'types': ['lodging', 'point_of_interest', 'establishment'],\n",
       "   'user_ratings_total': 815,\n",
       "   'vicinity': '4 Rue des Innocents, Paris'},\n",
       "  {'business_status': 'OPERATIONAL',\n",
       "   'geometry': {'location': {'lat': 48.8607769, 'lng': 2.3463217},\n",
       "    'viewport': {'northeast': {'lat': 48.8620135802915,\n",
       "      'lng': 2.347597080291502},\n",
       "     'southwest': {'lat': 48.8593156197085, 'lng': 2.344899119708498}}},\n",
       "   'icon': 'https://maps.gstatic.com/mapfiles/place_api/icons/v1/png_71/lodging-71.png',\n",
       "   'name': 'Novotel Paris Les Halles',\n",
       "   'opening_hours': {'open_now': True},\n",
       "   'photos': [{'height': 2000,\n",
       "     'html_attributions': ['<a href=\"https://maps.google.com/maps/contrib/111815616573299411056\">Novotel</a>'],\n",
       "     'photo_reference': 'ATtYBwK2KRSzeOxBU33u0hACpv9JlLclwu4ZW8DaUNQwo2Aj2BAyvPyTEIrDWKiSFYkZpsd4MpsMe2UCg5GA0nh0vOZESb8shhycoiRfd4S7sQDamX7NRLoetCLTboFJ4PBkmnX2p3h8LZ8MMbmH22bIch672nksjQEq4mYN5V_KMUJLZDxf',\n",
       "     'width': 3000}],\n",
       "   'place_id': 'ChIJGW2pNx9u5kcRI3oyL8NG5BQ',\n",
       "   'plus_code': {'compound_code': 'V86W+8G Paris, France',\n",
       "    'global_code': '8FW4V86W+8G'},\n",
       "   'rating': 4.4,\n",
       "   'reference': 'ChIJGW2pNx9u5kcRI3oyL8NG5BQ',\n",
       "   'scope': 'GOOGLE',\n",
       "   'types': ['lodging', 'point_of_interest', 'establishment'],\n",
       "   'user_ratings_total': 2088,\n",
       "   'vicinity': '8 Place Marguerite de Navarre, Paris'},\n",
       "  {'business_status': 'OPERATIONAL',\n",
       "   'geometry': {'location': {'lat': 48.86034799999999, 'lng': 2.344054},\n",
       "    'viewport': {'northeast': {'lat': 48.8616503302915,\n",
       "      'lng': 2.345521080291502},\n",
       "     'southwest': {'lat': 48.8589523697085, 'lng': 2.342823119708498}}},\n",
       "   'icon': 'https://maps.gstatic.com/mapfiles/place_api/icons/v1/png_71/lodging-71.png',\n",
       "   'name': 'Hôtel Ducs de Bourgogne',\n",
       "   'opening_hours': {'open_now': True},\n",
       "   'photos': [{'height': 1390,\n",
       "     'html_attributions': ['<a href=\"https://maps.google.com/maps/contrib/101411638353598558320\">Best Western Premier Ducs de Bourgogne</a>'],\n",
       "     'photo_reference': 'ATtYBwIOxLoKzCZj1-_36j75molUcrVEgsY6Rw0zw8jxkGJuB6W_mz8pUPK48L5lWyZSqwSKniU7Ld3BYVuLH4Gco7jnCbu12jako0h_uTP1J35Tn45qoGs1_xtDgfB8URpgixPiJ17l6gftajAYmtW5KGlIu_ts0d46Qk-YraD2zCovMgxT',\n",
       "     'width': 2048}],\n",
       "   'place_id': 'ChIJifTG5yFu5kcRdnisbwxnAx4',\n",
       "   'plus_code': {'compound_code': 'V86V+4J Paris, France',\n",
       "    'global_code': '8FW4V86V+4J'},\n",
       "   'rating': 4.5,\n",
       "   'reference': 'ChIJifTG5yFu5kcRdnisbwxnAx4',\n",
       "   'scope': 'GOOGLE',\n",
       "   'types': ['lodging', 'point_of_interest', 'establishment'],\n",
       "   'user_ratings_total': 275,\n",
       "   'vicinity': '19 Rue du Pont Neuf, Paris'},\n",
       "  {'business_status': 'OPERATIONAL',\n",
       "   'geometry': {'location': {'lat': 48.8555091, 'lng': 2.3408736},\n",
       "    'viewport': {'northeast': {'lat': 48.8569076302915,\n",
       "      'lng': 2.342319280291502},\n",
       "     'southwest': {'lat': 48.8542096697085, 'lng': 2.339621319708498}}},\n",
       "   'icon': 'https://maps.gstatic.com/mapfiles/place_api/icons/v1/png_71/lodging-71.png',\n",
       "   'name': 'Citadines Saint-Germain-des-Prés Paris',\n",
       "   'opening_hours': {'open_now': True},\n",
       "   'photos': [{'height': 3024,\n",
       "     'html_attributions': ['<a href=\"https://maps.google.com/maps/contrib/107856881779358840274\">David O&#39;Meara</a>'],\n",
       "     'photo_reference': 'ATtYBwIX1s5zs76_a7hw5mQTVYBXEi7R_1F4zGdj7wdlsEgXYAMxFSfzbtBNAx-neGiRePyzDBH2U-MD35vyYOdCStdkGnLsJLwaECx2gN2pRhDyT68ZrJ0TebgscpvS3VhlmWNzsYmf-7pc7Y2ZQb0EkjtaLD4ZP56-9xKPlnfP4YjZ-X8Q',\n",
       "     'width': 4032}],\n",
       "   'place_id': 'ChIJo5pYcN9x5kcRERXdocMgqmE',\n",
       "   'plus_code': {'compound_code': 'V84R+68 Paris, France',\n",
       "    'global_code': '8FW4V84R+68'},\n",
       "   'rating': 4.3,\n",
       "   'reference': 'ChIJo5pYcN9x5kcRERXdocMgqmE',\n",
       "   'scope': 'GOOGLE',\n",
       "   'types': ['lodging', 'point_of_interest', 'establishment'],\n",
       "   'user_ratings_total': 651,\n",
       "   'vicinity': '53 ter Quai des Grands Augustins, Paris'},\n",
       "  {'business_status': 'OPERATIONAL',\n",
       "   'geometry': {'location': {'lat': 48.86634659999999, 'lng': 2.36064},\n",
       "    'viewport': {'northeast': {'lat': 48.8677623302915,\n",
       "      'lng': 2.361952180291502},\n",
       "     'southwest': {'lat': 48.86506436970851, 'lng': 2.359254219708498}}},\n",
       "   'icon': 'https://maps.gstatic.com/mapfiles/place_api/icons/v1/png_71/lodging-71.png',\n",
       "   'name': 'Paris France Hôtel',\n",
       "   'opening_hours': {'open_now': True},\n",
       "   'photos': [{'height': 2673,\n",
       "     'html_attributions': ['<a href=\"https://maps.google.com/maps/contrib/102332962500946068613\">Paris France Hôtel</a>'],\n",
       "     'photo_reference': 'ATtYBwKFnzpR13ghLnvAF_1f0YOWwNwFI_zHwW1zdMqXO_6Feya7Vg-3ASd8TqFOj8lEwgua5Hq8ltb5DS_JinBKNX-_MK4E1ngkygp6wLbUf7hojsv1MLBy9L7hHu-3wSvteuUV3C05yVpzvZaP-Y_D8y-IFtLiXdv22fJ3p3GW0EPpHcRM',\n",
       "     'width': 3463}],\n",
       "   'place_id': 'ChIJhXWLZg9u5kcRDVyqoZYgcmg',\n",
       "   'plus_code': {'compound_code': 'V986+G7 Paris, France',\n",
       "    'global_code': '8FW4V986+G7'},\n",
       "   'rating': 4.3,\n",
       "   'reference': 'ChIJhXWLZg9u5kcRDVyqoZYgcmg',\n",
       "   'scope': 'GOOGLE',\n",
       "   'types': ['lodging', 'point_of_interest', 'establishment'],\n",
       "   'user_ratings_total': 374,\n",
       "   'vicinity': '72 Rue de Turbigo, Paris'},\n",
       "  {'business_status': 'OPERATIONAL',\n",
       "   'geometry': {'location': {'lat': 48.86386539999999, 'lng': 2.3325488},\n",
       "    'viewport': {'northeast': {'lat': 48.8652309302915,\n",
       "      'lng': 2.333762030291502},\n",
       "     'southwest': {'lat': 48.8625329697085, 'lng': 2.331064069708498}}},\n",
       "   'icon': 'https://maps.gstatic.com/mapfiles/place_api/icons/v1/png_71/lodging-71.png',\n",
       "   'name': 'Hotel Regina Louvre',\n",
       "   'opening_hours': {'open_now': True},\n",
       "   'photos': [{'height': 3700,\n",
       "     'html_attributions': ['<a href=\"https://maps.google.com/maps/contrib/109908333790946649027\">Hôtel Regina Louvre</a>'],\n",
       "     'photo_reference': 'ATtYBwKG_rL2C0cBGkEJCbTfSHcbEyn0MjuO7_0J8bKkIHI76UGn3rT3juB6b8lDtYBD3sVBC0XpiYK658F7YnptHTmmU0b0lV2UTVDMK2YpXL2BbZ4YMr46W_kp-mRVjY1iE2K-syHYBeLEt6tzzBf-ZT_jjbIg4I0I9n1HsvLJWQ5LsVHk',\n",
       "     'width': 5550}],\n",
       "   'place_id': 'ChIJP_-HCS9u5kcRsj9b1x7Pl8w',\n",
       "   'plus_code': {'compound_code': 'V87M+G2 Paris, France',\n",
       "    'global_code': '8FW4V87M+G2'},\n",
       "   'rating': 4.5,\n",
       "   'reference': 'ChIJP_-HCS9u5kcRsj9b1x7Pl8w',\n",
       "   'scope': 'GOOGLE',\n",
       "   'types': ['lodging',\n",
       "    'bar',\n",
       "    'restaurant',\n",
       "    'food',\n",
       "    'point_of_interest',\n",
       "    'establishment'],\n",
       "   'user_ratings_total': 501,\n",
       "   'vicinity': '2 Place des Pyramides, Paris'},\n",
       "  {'business_status': 'OPERATIONAL',\n",
       "   'geometry': {'location': {'lat': 48.84795229999999, 'lng': 2.370869},\n",
       "    'viewport': {'northeast': {'lat': 48.84922153029149,\n",
       "      'lng': 2.372321980291502},\n",
       "     'southwest': {'lat': 48.84652356970849, 'lng': 2.369624019708498}}},\n",
       "   'icon': 'https://maps.gstatic.com/mapfiles/place_api/icons/v1/png_71/lodging-71.png',\n",
       "   'name': 'ibis Paris Gare de Lyon Ledru Rollin 12ème',\n",
       "   'opening_hours': {'open_now': True},\n",
       "   'photos': [{'height': 3024,\n",
       "     'html_attributions': ['<a href=\"https://maps.google.com/maps/contrib/102166088584622554231\">cherry pyj</a>'],\n",
       "     'photo_reference': 'ATtYBwJgjKgEBKwBYRYP5W0_zrMD8n6foHoPiHoguwmFb9JLMFqq2c7rzAPs_L0YBuNGSpYOR4J3LkgECtKt6h648u691w49JFyyZFhsuLY3ojcXiw0wG28q64DZ4_2SyeKrAKUQSWjrx243OaXfZa_9U08Fh0YUunQMTgicSEocNlxthApF',\n",
       "     'width': 4032}],\n",
       "   'place_id': 'ChIJ9RNxcQNy5kcRnZJ4vsuXcow',\n",
       "   'plus_code': {'compound_code': 'R9XC+58 Paris, France',\n",
       "    'global_code': '8FW4R9XC+58'},\n",
       "   'rating': 4,\n",
       "   'reference': 'ChIJ9RNxcQNy5kcRnZJ4vsuXcow',\n",
       "   'scope': 'GOOGLE',\n",
       "   'types': ['lodging', 'point_of_interest', 'establishment'],\n",
       "   'user_ratings_total': 748,\n",
       "   'vicinity': '41/43 Avenue Ledru Rollin, Paris'},\n",
       "  {'business_status': 'OPERATIONAL',\n",
       "   'geometry': {'location': {'lat': 48.8475464, 'lng': 2.3718722},\n",
       "    'viewport': {'northeast': {'lat': 48.8488750302915,\n",
       "      'lng': 2.373125480291502},\n",
       "     'southwest': {'lat': 48.8461770697085, 'lng': 2.370427519708498}}},\n",
       "   'icon': 'https://maps.gstatic.com/mapfiles/place_api/icons/v1/png_71/lodging-71.png',\n",
       "   'name': 'Hôtel De France Gare de Lyon Bastille',\n",
       "   'photos': [{'height': 4000,\n",
       "     'html_attributions': ['<a href=\"https://maps.google.com/maps/contrib/112792427704207973717\">salva ubeda</a>'],\n",
       "     'photo_reference': 'ATtYBwI_IwnHleNqURfqOFXqpkS6JSQ-6OBGbNcgXbQ0WwSm9cWU89pR5d0bv3l7OAN9HqFU6DuDmaejCiUdyWxdNlihTK-tdUfxEGXdKaWYxJZvEoQvpjeCe3hCW_EIMwgBALrT6PWLPltiaM3cwk4_-iHHl9fDD1bAiOT9NFwptD_HfYES',\n",
       "     'width': 6000}],\n",
       "   'place_id': 'ChIJz6DBYgNy5kcRhOu1LhDIECM',\n",
       "   'plus_code': {'compound_code': 'R9XC+2P Paris, France',\n",
       "    'global_code': '8FW4R9XC+2P'},\n",
       "   'rating': 3.3,\n",
       "   'reference': 'ChIJz6DBYgNy5kcRhOu1LhDIECM',\n",
       "   'scope': 'GOOGLE',\n",
       "   'types': ['lodging', 'point_of_interest', 'establishment'],\n",
       "   'user_ratings_total': 380,\n",
       "   'vicinity': '12 Rue de Lyon, Paris'},\n",
       "  {'business_status': 'OPERATIONAL',\n",
       "   'geometry': {'location': {'lat': 48.8717386, 'lng': 2.3447052},\n",
       "    'viewport': {'northeast': {'lat': 48.8731394302915,\n",
       "      'lng': 2.346067130291502},\n",
       "     'southwest': {'lat': 48.8704414697085, 'lng': 2.343369169708498}}},\n",
       "   'icon': 'https://maps.gstatic.com/mapfiles/place_api/icons/v1/png_71/lodging-71.png',\n",
       "   'name': 'Hôtel Prélude Opéra',\n",
       "   'photos': [{'height': 4000,\n",
       "     'html_attributions': ['<a href=\"https://maps.google.com/maps/contrib/110158133027602673318\">Marisa Pretto</a>'],\n",
       "     'photo_reference': 'ATtYBwK8iuin2L4zWMU0KNTqtnCFrHCirPhDnK4dMLuJdpyXa79J6pGcMaRK5VWIey6Z1-cyoIJQMF4X14JJ7OiF6UzRUWvJvhSEKbCgM11Y8_ujjmb5kfKnliGdQ3mG793Edk5YQBzdhwyKvh1cabk9pOPbpY7Il-T2Nk20yqQVKFZY1WbJ',\n",
       "     'width': 3000}],\n",
       "   'place_id': 'ChIJ8e3Qcj5u5kcR2MIGwNxustk',\n",
       "   'plus_code': {'compound_code': 'V8CV+MV Paris, France',\n",
       "    'global_code': '8FW4V8CV+MV'},\n",
       "   'rating': 4,\n",
       "   'reference': 'ChIJ8e3Qcj5u5kcR2MIGwNxustk',\n",
       "   'scope': 'GOOGLE',\n",
       "   'types': ['lodging', 'point_of_interest', 'establishment'],\n",
       "   'user_ratings_total': 311,\n",
       "   'vicinity': '8 Cité Bergère, Paris'},\n",
       "  {'business_status': 'OPERATIONAL',\n",
       "   'geometry': {'location': {'lat': 48.8423491, 'lng': 2.3632246},\n",
       "    'viewport': {'northeast': {'lat': 48.84365308029151,\n",
       "      'lng': 2.364707180291502},\n",
       "     'southwest': {'lat': 48.84095511970851, 'lng': 2.362009219708498}}},\n",
       "   'icon': 'https://maps.gstatic.com/mapfiles/place_api/icons/v1/png_71/lodging-71.png',\n",
       "   'name': 'Hôtel Libertel Austerlitz Jardin des Plantes',\n",
       "   'opening_hours': {'open_now': True},\n",
       "   'photos': [{'height': 4480,\n",
       "     'html_attributions': ['<a href=\"https://maps.google.com/maps/contrib/114802271282641766772\">Hôtel Libertel Austerlitz Jardin des Plantes</a>'],\n",
       "     'photo_reference': 'ATtYBwJA1dg83KyQCUa8GxM88oYXhN8d8Qv3GoOYbuREWVwVoZvRhwcc_Bw3pARCHZXcN5JImViqMgKkLUpclThmm6BzlHYnIwhFoiQ_jQOVRy0zhcdCYPhwFD88DY0rw5W5eDE2hc3Hxn_BB6Fc7Vdm3_OuoHkA8YpuVIFaGUTRNuS5Dkla',\n",
       "     'width': 6720}],\n",
       "   'place_id': 'ChIJe-udXPZx5kcRKURHNFv5BSw',\n",
       "   'plus_code': {'compound_code': 'R9R7+W7 Paris, France',\n",
       "    'global_code': '8FW4R9R7+W7'},\n",
       "   'rating': 4,\n",
       "   'reference': 'ChIJe-udXPZx5kcRKURHNFv5BSw',\n",
       "   'scope': 'GOOGLE',\n",
       "   'types': ['lodging', 'point_of_interest', 'establishment'],\n",
       "   'user_ratings_total': 433,\n",
       "   'vicinity': \"12 Boulevard de l'Hôpital, Paris\"},\n",
       "  {'business_status': 'OPERATIONAL',\n",
       "   'geometry': {'location': {'lat': 48.864294, 'lng': 2.3307997},\n",
       "    'viewport': {'northeast': {'lat': 48.8655898302915,\n",
       "      'lng': 2.332108780291502},\n",
       "     'southwest': {'lat': 48.8628918697085, 'lng': 2.329410819708498}}},\n",
       "   'icon': 'https://maps.gstatic.com/mapfiles/place_api/icons/v1/png_71/lodging-71.png',\n",
       "   'name': 'Saint James Albany Paris Hôtel Spa',\n",
       "   'opening_hours': {'open_now': True},\n",
       "   'photos': [{'height': 1365,\n",
       "     'html_attributions': ['<a href=\"https://maps.google.com/maps/contrib/108570400659068256718\">Saint James Albany Paris Hôtel Spa</a>'],\n",
       "     'photo_reference': 'ATtYBwIKEgNdha2ixTR3EXawEZK1Syfl25r_Itvy47a2JxmNJSvVBmKXt6-zVEiUZMYB7hAFVKrD_wZRcP5k9exvCk-EnK3JJiFP95k0JR6uzMfoJbIYIJZepkRzR2mvIo3NgKYkp2JDBKHMvCRZAvINUi8BdpurmZ-NZXWI0JcVryVBbZQo',\n",
       "     'width': 2048}],\n",
       "   'place_id': 'ChIJ8znTVS5u5kcREq8TmzOICFs',\n",
       "   'plus_code': {'compound_code': 'V87J+P8 Paris, France',\n",
       "    'global_code': '8FW4V87J+P8'},\n",
       "   'rating': 4,\n",
       "   'reference': 'ChIJ8znTVS5u5kcREq8TmzOICFs',\n",
       "   'scope': 'GOOGLE',\n",
       "   'types': ['lodging',\n",
       "    'bar',\n",
       "    'restaurant',\n",
       "    'food',\n",
       "    'point_of_interest',\n",
       "    'establishment'],\n",
       "   'user_ratings_total': 1072,\n",
       "   'vicinity': '202 Rue de Rivoli, Paris'},\n",
       "  {'business_status': 'OPERATIONAL',\n",
       "   'geometry': {'location': {'lat': 48.87110329999999, 'lng': 2.3389728},\n",
       "    'viewport': {'northeast': {'lat': 48.8724296802915,\n",
       "      'lng': 2.340311380291502},\n",
       "     'southwest': {'lat': 48.8697317197085, 'lng': 2.337613419708498}}},\n",
       "   'icon': 'https://maps.gstatic.com/mapfiles/place_api/icons/v1/png_71/lodging-71.png',\n",
       "   'name': 'Hôtel Icône',\n",
       "   'opening_hours': {'open_now': True},\n",
       "   'photos': [{'height': 1066,\n",
       "     'html_attributions': ['<a href=\"https://maps.google.com/maps/contrib/108137830440312077288\">Hôtel Icône</a>'],\n",
       "     'photo_reference': 'ATtYBwIcjxLEMMSD6zi_37spmU3b1a4TkgF4dTQrS7tYsGpm4TeYJdrCR0XFOx-E3njCg5oOf9C96b8RQD9rPC-WbfsnO4h6cHMot3ZZUdIjbbFKYSu9CL2Qnagc7fEHpFIloaLiDO1IuuYedVCtZrnYrujrMED8CaqgkUQx50X45wfAaVmO',\n",
       "     'width': 1600}],\n",
       "   'place_id': 'ChIJpQvq5Dtu5kcR0COam2f7v_I',\n",
       "   'plus_code': {'compound_code': 'V8CQ+CH Paris, France',\n",
       "    'global_code': '8FW4V8CQ+CH'},\n",
       "   'rating': 3.7,\n",
       "   'reference': 'ChIJpQvq5Dtu5kcR0COam2f7v_I',\n",
       "   'scope': 'GOOGLE',\n",
       "   'types': ['lodging', 'point_of_interest', 'establishment'],\n",
       "   'user_ratings_total': 135,\n",
       "   'vicinity': \"4 Rue d'Amboise, Paris\"},\n",
       "  {'business_status': 'OPERATIONAL',\n",
       "   'geometry': {'location': {'lat': 48.8654924, 'lng': 2.3271121},\n",
       "    'viewport': {'northeast': {'lat': 48.8667867302915,\n",
       "      'lng': 2.328593580291502},\n",
       "     'southwest': {'lat': 48.8640887697085, 'lng': 2.325895619708498}}},\n",
       "   'icon': 'https://maps.gstatic.com/mapfiles/place_api/icons/v1/png_71/lodging-71.png',\n",
       "   'name': 'The Westin Paris - Vendôme',\n",
       "   'opening_hours': {'open_now': True},\n",
       "   'photos': [{'height': 810,\n",
       "     'html_attributions': ['<a href=\"https://maps.google.com/maps/contrib/105819208076758962074\">The Westin Paris - Vendôme</a>'],\n",
       "     'photo_reference': 'ATtYBwKMl6suuXo4a2qap56p2iPWmcuqIdcBTWhEEWXPehCXcW2VG_a06o-xQAypOXwvH8S95G03BGYEzVbQrwRi3L-bK3u-tcl6mP2E6WUdFDsBhoZ0p3JCmc0w3rX57sUh49hMGwOoO5YaUuMrz3aRPQF53mIJ_hj-H1K3CUx_EdWs0cEd',\n",
       "     'width': 1440}],\n",
       "   'place_id': 'ChIJt4LY5C1u5kcRvVeuJebPxHc',\n",
       "   'plus_code': {'compound_code': 'V88G+5R Paris, France',\n",
       "    'global_code': '8FW4V88G+5R'},\n",
       "   'rating': 4.4,\n",
       "   'reference': 'ChIJt4LY5C1u5kcRvVeuJebPxHc',\n",
       "   'scope': 'GOOGLE',\n",
       "   'types': ['lodging', 'point_of_interest', 'establishment'],\n",
       "   'user_ratings_total': 2041,\n",
       "   'vicinity': '3 Rue de Castiglione, Paris'},\n",
       "  {'business_status': 'OPERATIONAL',\n",
       "   'geometry': {'location': {'lat': 48.86038899999999, 'lng': 2.323112},\n",
       "    'viewport': {'northeast': {'lat': 48.8617804302915,\n",
       "      'lng': 2.324489280291502},\n",
       "     'southwest': {'lat': 48.8590824697085, 'lng': 2.321791319708499}}},\n",
       "   'icon': 'https://maps.gstatic.com/mapfiles/place_api/icons/v1/png_71/lodging-71.png',\n",
       "   'name': \"Hôtel d'Orsay\",\n",
       "   'opening_hours': {'open_now': True},\n",
       "   'photos': [{'height': 768,\n",
       "     'html_attributions': ['<a href=\"https://maps.google.com/maps/contrib/115556676131195822021\">Hôtel 4 étoile d&#39;Orsay Paris 7ème</a>'],\n",
       "     'photo_reference': 'ATtYBwJ-54EgGkDyUXdNDhYntlQloeFppPtNNeR4lAtRGj8R_utHZ3tb_BPNFcvG1_6xjp1QmyVTW7wqcprekZm67Qy4kgCBji3tUnBO1n7FZBbIsng8H2MZfIVQsFQO_8u-hM3vfBsj4BBIctoUEWnM63DHiZHddUNPhHeWMc1C2fVGdjLy',\n",
       "     'width': 1152}],\n",
       "   'place_id': 'ChIJu39_OCtu5kcRWVQ7SFa0J-k',\n",
       "   'plus_code': {'compound_code': 'V86F+56 Paris, France',\n",
       "    'global_code': '8FW4V86F+56'},\n",
       "   'rating': 4.6,\n",
       "   'reference': 'ChIJu39_OCtu5kcRWVQ7SFa0J-k',\n",
       "   'scope': 'GOOGLE',\n",
       "   'types': ['lodging', 'point_of_interest', 'establishment'],\n",
       "   'user_ratings_total': 207,\n",
       "   'vicinity': '93 Rue de Lille, Paris'},\n",
       "  {'business_status': 'OPERATIONAL',\n",
       "   'geometry': {'location': {'lat': 48.8661363, 'lng': 2.3260648},\n",
       "    'viewport': {'northeast': {'lat': 48.8674534302915,\n",
       "      'lng': 2.327513280291502},\n",
       "     'southwest': {'lat': 48.8647554697085, 'lng': 2.324815319708498}}},\n",
       "   'icon': 'https://maps.gstatic.com/mapfiles/place_api/icons/v1/png_71/lodging-71.png',\n",
       "   'name': 'Hôtel Mayfair Paris',\n",
       "   'opening_hours': {'open_now': True},\n",
       "   'photos': [{'height': 1365,\n",
       "     'html_attributions': ['<a href=\"https://maps.google.com/maps/contrib/113789389085635834164\">Hôtel Mayfair Paris</a>'],\n",
       "     'photo_reference': 'ATtYBwJv7GgSiILlDS2bmdCpamrm-x040ZOU2Bj03XCoRzmuttoTCxniGt4WnbT5MO2Dg6Dk2-JqLWTMCyLTFROcgQrWCmPB0PmzaoQFOD-C9kG5d8U8DU8PlC2-JftQwbt5tDbQA_kdnOxjtziWVE47x847u7kKMldMXOT4RXZStftE9GmP',\n",
       "     'width': 2048}],\n",
       "   'place_id': 'ChIJTXVIhS1u5kcRlm9-RG0srQs',\n",
       "   'plus_code': {'compound_code': 'V88G+FC Paris, France',\n",
       "    'global_code': '8FW4V88G+FC'},\n",
       "   'rating': 4.2,\n",
       "   'reference': 'ChIJTXVIhS1u5kcRlm9-RG0srQs',\n",
       "   'scope': 'GOOGLE',\n",
       "   'types': ['lodging', 'point_of_interest', 'establishment'],\n",
       "   'user_ratings_total': 245,\n",
       "   'vicinity': '3 Rue Rouget de Lisle, Paris'},\n",
       "  {'business_status': 'OPERATIONAL',\n",
       "   'geometry': {'location': {'lat': 48.8758937, 'lng': 2.3591167},\n",
       "    'viewport': {'northeast': {'lat': 48.8772932302915,\n",
       "      'lng': 2.360447230291502},\n",
       "     'southwest': {'lat': 48.8745952697085, 'lng': 2.357749269708498}}},\n",
       "   'icon': 'https://maps.gstatic.com/mapfiles/place_api/icons/v1/png_71/lodging-71.png',\n",
       "   'name': \"Holiday Inn Paris - Gare de L'Estates\",\n",
       "   'opening_hours': {'open_now': True},\n",
       "   'photos': [{'height': 1366,\n",
       "     'html_attributions': ['<a href=\"https://maps.google.com/maps/contrib/102027969916801631519\">Holiday Inn Paris - Gare de L&#39;Estates</a>'],\n",
       "     'photo_reference': 'ATtYBwI-5frr9qU6eEmCG9_pkivNWuikWoAoYSeqIsEGmBD4BWxAVlTWCvxD1cmRZxd0R9h7zdHnn4z3CUGJvsF5roMzUOg8A3b7A6jk2j0MOw5XZzv4lRrihucAnkIH0FR5nAxKxOAMsUmd-kWsjYpYOFWUEHMYqhjoKqeoMfORF6M_3VRL',\n",
       "     'width': 2048}],\n",
       "   'place_id': 'ChIJwUHJSg1u5kcRhNqw_oQNeKI',\n",
       "   'plus_code': {'compound_code': 'V9G5+9J Paris, France',\n",
       "    'global_code': '8FW4V9G5+9J'},\n",
       "   'rating': 3.8,\n",
       "   'reference': 'ChIJwUHJSg1u5kcRhNqw_oQNeKI',\n",
       "   'scope': 'GOOGLE',\n",
       "   'types': ['lodging', 'point_of_interest', 'establishment'],\n",
       "   'user_ratings_total': 1526,\n",
       "   'vicinity': '5, 45 Rue du 8 Mai 1945, Paris'},\n",
       "  {'business_status': 'OPERATIONAL',\n",
       "   'geometry': {'location': {'lat': 48.8722237, 'lng': 2.3333825},\n",
       "    'viewport': {'northeast': {'lat': 48.8734762802915,\n",
       "      'lng': 2.334606530291502},\n",
       "     'southwest': {'lat': 48.8707783197085, 'lng': 2.331908569708498}}},\n",
       "   'icon': 'https://maps.gstatic.com/mapfiles/place_api/icons/v1/png_71/lodging-71.png',\n",
       "   'name': 'W Paris - Opéra',\n",
       "   'opening_hours': {'open_now': True},\n",
       "   'photos': [{'height': 810,\n",
       "     'html_attributions': ['<a href=\"https://maps.google.com/maps/contrib/104505592247314929752\">W Paris - Opéra</a>'],\n",
       "     'photo_reference': 'ATtYBwIep3CSXfrOYBRDECk11BNbR4-avnXBYPzuvlg1E4LikcuESdsRPpbUJNaIBasMVy5LoXhVqod4KGbjzmxps9XYgwEoJgpttYQrK_91HCj55CGh3aw9RM-XYr2m7mCu-XhcsiR2DZ75RYvELm-Bp-oM7kb4Qr26Nl3FAJbPS8RgVvS4',\n",
       "     'width': 1440}],\n",
       "   'place_id': 'ChIJiVMcgTRu5kcRbXfOviG7AqI',\n",
       "   'plus_code': {'compound_code': 'V8CM+V9 Paris, France',\n",
       "    'global_code': '8FW4V8CM+V9'},\n",
       "   'rating': 4.2,\n",
       "   'reference': 'ChIJiVMcgTRu5kcRbXfOviG7AqI',\n",
       "   'scope': 'GOOGLE',\n",
       "   'types': ['lodging', 'point_of_interest', 'establishment'],\n",
       "   'user_ratings_total': 491,\n",
       "   'vicinity': '4 Rue Meyerbeer, Paris'},\n",
       "  {'business_status': 'OPERATIONAL',\n",
       "   'geometry': {'location': {'lat': 48.8708361, 'lng': 2.3307253},\n",
       "    'viewport': {'northeast': {'lat': 48.8722390802915,\n",
       "      'lng': 2.331806380291502},\n",
       "     'southwest': {'lat': 48.8695411197085, 'lng': 2.329108419708498}}},\n",
       "   'icon': 'https://maps.gstatic.com/mapfiles/place_api/icons/v1/png_71/lodging-71.png',\n",
       "   'name': 'InterContinental Paris - Le Grand',\n",
       "   'photos': [{'height': 1339,\n",
       "     'html_attributions': ['<a href=\"https://maps.google.com/maps/contrib/107945298839607703601\">InterContinental Paris - Le Grand</a>'],\n",
       "     'photo_reference': 'ATtYBwKy7zIoQy3r44wPx5kXU1gWt4_lOAf2coq_qo1vMTE9yc2HhHJkZNbixeL2qjxG2K1e6w0j9y0CUZMHecMQIvIDEqDTJsFfWGwU67lj_ffd2VBC4CJmkDZBgKj3P3lOPi1PXHu8L4hcS8HLXuhbT8-W6-MyNJPZfZtc-QI-rEAGMoSA',\n",
       "     'width': 2048}],\n",
       "   'place_id': 'ChIJt4LY5C1u5kcRZmZx4KyzhVM',\n",
       "   'plus_code': {'compound_code': 'V8CJ+87 Paris, France',\n",
       "    'global_code': '8FW4V8CJ+87'},\n",
       "   'rating': 4.6,\n",
       "   'reference': 'ChIJt4LY5C1u5kcRZmZx4KyzhVM',\n",
       "   'scope': 'GOOGLE',\n",
       "   'types': ['lodging', 'point_of_interest', 'establishment'],\n",
       "   'user_ratings_total': 2400,\n",
       "   'vicinity': '2 Rue Scribe, Paris'}],\n",
       " 'status': 'OK'}"
      ]
     },
     "execution_count": 16,
     "metadata": {},
     "output_type": "execute_result"
    }
   ],
   "source": [
    "# Set the parameters to search for a hotel in Paris.\n",
    "params = {\n",
    "    \"radius\": 5000,\n",
    "    \"types\": \"lodging\",\n",
    "    \"key\": g_key,\n",
    "    \"location\": \"48.8566, 2.3522\"}\n",
    "# Use base URL to search for hotels in Paris.\n",
    "base_url = \"https://maps.googleapis.com/maps/api/place/nearbysearch/json\"\n",
    "# Make request and get the JSON data from the search.\n",
    "hotels = requests.get(base_url, params=params).json()\n",
    "\n",
    "hotels"
   ]
  },
  {
   "cell_type": "code",
   "execution_count": 17,
   "metadata": {},
   "outputs": [
    {
     "data": {
      "text/html": [
       "<div>\n",
       "<style scoped>\n",
       "    .dataframe tbody tr th:only-of-type {\n",
       "        vertical-align: middle;\n",
       "    }\n",
       "\n",
       "    .dataframe tbody tr th {\n",
       "        vertical-align: top;\n",
       "    }\n",
       "\n",
       "    .dataframe thead th {\n",
       "        text-align: right;\n",
       "    }\n",
       "</style>\n",
       "<table border=\"1\" class=\"dataframe\">\n",
       "  <thead>\n",
       "    <tr style=\"text-align: right;\">\n",
       "      <th></th>\n",
       "      <th>City</th>\n",
       "      <th>Country</th>\n",
       "      <th>Max Temp</th>\n",
       "      <th>Lat</th>\n",
       "      <th>Lng</th>\n",
       "      <th>Hotel Name</th>\n",
       "    </tr>\n",
       "  </thead>\n",
       "  <tbody>\n",
       "    <tr>\n",
       "      <th>1</th>\n",
       "      <td>Ciudad Bolivar</td>\n",
       "      <td>VE</td>\n",
       "      <td>75.25</td>\n",
       "      <td>8.1222</td>\n",
       "      <td>-63.5497</td>\n",
       "      <td>Hotel Edi</td>\n",
       "    </tr>\n",
       "    <tr>\n",
       "      <th>5</th>\n",
       "      <td>Kavieng</td>\n",
       "      <td>PG</td>\n",
       "      <td>84.29</td>\n",
       "      <td>-2.5744</td>\n",
       "      <td>150.7967</td>\n",
       "      <td>Nusa Island Retreat</td>\n",
       "    </tr>\n",
       "  </tbody>\n",
       "</table>\n",
       "</div>"
      ],
      "text/plain": [
       "             City Country  Max Temp     Lat       Lng           Hotel Name\n",
       "1  Ciudad Bolivar      VE     75.25  8.1222  -63.5497            Hotel Edi\n",
       "5         Kavieng      PG     84.29 -2.5744  150.7967  Nusa Island Retreat"
      ]
     },
     "execution_count": 17,
     "metadata": {},
     "output_type": "execute_result"
    }
   ],
   "source": [
    "# Iterate through the DataFrame.\n",
    "for index, row in hotel_df.iterrows():\n",
    "    # Get the latitude and longitude.\n",
    "    lat = row[\"Lat\"]\n",
    "    lng = row[\"Lng\"]\n",
    "\n",
    "    # Add the latitude and longitude to location key for the params dictionary.\n",
    "    params[\"location\"] = f\"{lat},{lng}\"\n",
    "\n",
    "    # Use the search term: \"lodging\" and our latitude and longitude.\n",
    "    base_url = \"https://maps.googleapis.com/maps/api/place/nearbysearch/json\"\n",
    "    # Make request and get the JSON data from the search.\n",
    "    hotels = requests.get(base_url, params=params).json()\n",
    "    # Grab the first hotel from the results and store the name.\n",
    "    try:\n",
    "        hotel_df.loc[index, \"Hotel Name\"] = hotels[\"results\"][0][\"name\"]\n",
    "    except (IndexError):\n",
    "        print(\"Hotel not found... skipping.\")\n",
    "hotel_df.head(10)"
   ]
  },
  {
   "cell_type": "code",
   "execution_count": 19,
   "metadata": {},
   "outputs": [
    {
     "data": {
      "application/vnd.jupyter.widget-view+json": {
       "model_id": "b5d9605df2b64b1aac76c30488cb8cad",
       "version_major": 2,
       "version_minor": 0
      },
      "text/plain": [
       "Figure(layout=FigureLayout(height='420px'))"
      ]
     },
     "metadata": {},
     "output_type": "display_data"
    }
   ],
   "source": [
    "# Add a heatmap of temperature for the vacation spots.\n",
    "locations = hotel_df[[\"Lat\", \"Lng\"]]\n",
    "max_temp = hotel_df[\"Max Temp\"]\n",
    "fig = gmaps.figure(center=(30.0, 31.0), zoom_level=1.5)\n",
    "heat_layer = gmaps.heatmap_layer(locations, weights=max_temp, dissipating=False,\n",
    "             max_intensity=300, point_radius=4)\n",
    "fig.add_layer(heat_layer)\n",
    "# Call the figure to plot the data.\n",
    "fig"
   ]
  },
  {
   "cell_type": "code",
   "execution_count": 20,
   "metadata": {},
   "outputs": [
    {
     "data": {
      "application/vnd.jupyter.widget-view+json": {
       "model_id": "8702550215ca4a5f96ab6d6a26d32a89",
       "version_major": 2,
       "version_minor": 0
      },
      "text/plain": [
       "Figure(layout=FigureLayout(height='420px'))"
      ]
     },
     "metadata": {},
     "output_type": "display_data"
    }
   ],
   "source": [
    "# Add a heatmap of temperature for the vacation spots and marker for each city.\n",
    "locations = hotel_df[[\"Lat\", \"Lng\"]]\n",
    "max_temp = hotel_df[\"Max Temp\"]\n",
    "fig = gmaps.figure(center=(30.0, 31.0), zoom_level=1.5)\n",
    "heat_layer = gmaps.heatmap_layer(locations, weights=max_temp,\n",
    "             dissipating=False, max_intensity=300, point_radius=4)\n",
    "marker_layer = gmaps.marker_layer(locations)\n",
    "fig.add_layer(heat_layer)\n",
    "fig.add_layer(marker_layer)\n",
    "# Call the figure to plot the data.\n",
    "fig"
   ]
  },
  {
   "cell_type": "code",
   "execution_count": 21,
   "metadata": {},
   "outputs": [],
   "source": [
    "info_box_template = \"\"\"\n",
    "<dl>\n",
    "<dt>Hotel Name</dt><dd>{Hotel Name}</dd>\n",
    "<dt>City</dt><dd>{City}</dd>\n",
    "<dt>Country</dt><dd>{Country}</dd>\n",
    "<dt>Max Temp</dt><dd>{Max Temp} °F</dd>\n",
    "</dl>\n",
    "\"\"\"\n",
    "# Store the DataFrame Row.\n",
    "hotel_info = [info_box_template.format(**row) for index, row in hotel_df.iterrows()]"
   ]
  },
  {
   "cell_type": "code",
   "execution_count": 22,
   "metadata": {},
   "outputs": [
    {
     "data": {
      "application/vnd.jupyter.widget-view+json": {
       "model_id": "8c9fc7fa24ae4646b58377cb673dad98",
       "version_major": 2,
       "version_minor": 0
      },
      "text/plain": [
       "Figure(layout=FigureLayout(height='420px'))"
      ]
     },
     "metadata": {},
     "output_type": "display_data"
    }
   ],
   "source": [
    "# Add a heatmap of temperature for the vacation spots and a pop-up marker for each city.\n",
    "locations = hotel_df[[\"Lat\", \"Lng\"]]\n",
    "max_temp = hotel_df[\"Max Temp\"]\n",
    "fig = gmaps.figure(center=(30.0, 31.0), zoom_level=1.5)\n",
    "heat_layer = gmaps.heatmap_layer(locations, weights=max_temp,dissipating=False,\n",
    "             max_intensity=300, point_radius=4)\n",
    "marker_layer = gmaps.marker_layer(locations, info_box_content=hotel_info)\n",
    "fig.add_layer(heat_layer)\n",
    "fig.add_layer(marker_layer)\n",
    "\n",
    "# Call the figure to plot the data.\n",
    "fig"
   ]
  },
  {
   "cell_type": "code",
   "execution_count": null,
   "metadata": {},
   "outputs": [],
   "source": []
  }
 ],
 "metadata": {
  "kernelspec": {
   "display_name": "Python 3",
   "language": "python",
   "name": "python3"
  },
  "language_info": {
   "codemirror_mode": {
    "name": "ipython",
    "version": 3
   },
   "file_extension": ".py",
   "mimetype": "text/x-python",
   "name": "python",
   "nbconvert_exporter": "python",
   "pygments_lexer": "ipython3",
   "version": "3.8.5"
  }
 },
 "nbformat": 4,
 "nbformat_minor": 4
}
