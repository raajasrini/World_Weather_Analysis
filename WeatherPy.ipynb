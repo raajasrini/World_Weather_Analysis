{
 "cells": [
  {
   "cell_type": "code",
   "execution_count": 62,
   "metadata": {},
   "outputs": [],
   "source": [
    "import pandas as pd\n",
    "import matplotlib.pyplot as plt\n",
    "import numpy as np"
   ]
  },
  {
   "cell_type": "code",
   "execution_count": 117,
   "metadata": {},
   "outputs": [
    {
     "data": {
      "text/plain": [
       "<zip at 0x7fe299df48c0>"
      ]
     },
     "execution_count": 117,
     "metadata": {},
     "output_type": "execute_result"
    }
   ],
   "source": [
    "lats = np.random.uniform(low=-90.000, high=90.000, size=1500)\n",
    "lngs = np.random.uniform(low=-180.000, high=180.000, size=1500)\n",
    "lat_lngs = zip(lats, lngs)\n",
    "lat_lngs"
   ]
  },
  {
   "cell_type": "code",
   "execution_count": 118,
   "metadata": {},
   "outputs": [],
   "source": [
    "from citipy import citipy"
   ]
  },
  {
   "cell_type": "code",
   "execution_count": 122,
   "metadata": {},
   "outputs": [
    {
     "name": "stdout",
     "output_type": "stream",
     "text": [
      "cockburn town tc\n",
      "gat ly\n",
      "parvatsar in\n",
      "punta arenas cl\n",
      "saint george bm\n"
     ]
    }
   ],
   "source": [
    "#x = [25.12903645, 25.92017388, 26.62509167, -59.98969384, 37.30571269]\n",
    "#y = [-67.59741259, 11.09532135, 74.84233102, -76.89176677, -61.13376282]\n",
    "coordinates = zip(x, y)\n",
    "# Use the tuple() function to display the latitude and longitude combinations.\n",
    "for coordinate in coordinates:\n",
    "    print(citipy.nearest_city(coordinate[0], coordinate[1]).city_name,\n",
    "          citipy.nearest_city(coordinate[0], coordinate[1]).country_code)"
   ]
  },
  {
   "cell_type": "code",
   "execution_count": 123,
   "metadata": {},
   "outputs": [
    {
     "data": {
      "text/plain": [
       "5"
      ]
     },
     "execution_count": 123,
     "metadata": {},
     "output_type": "execute_result"
    }
   ],
   "source": [
    "x = [25.12903645, 25.92017388, 26.62509167, -59.98969384, 37.30571269]\n",
    "y = [-67.59741259, 11.09532135, 74.84233102, -76.89176677, -61.13376282]\n",
    "coordinates = zip(x, y)\n",
    "# Create a list for holding the cities.\n",
    "cities = []\n",
    "# Identify the nearest city for each latitude and longitude combination.\n",
    "for coordinate in coordinates:\n",
    "    city = citipy.nearest_city(coordinate[0], coordinate[1]).city_name\n",
    "    # If the city is unique, then we will add it to the cities list.\n",
    "    if city not in cities:\n",
    "        cities.append(city)\n",
    "# Print the city count to confirm sufficient count.\n",
    "len(cities)"
   ]
  },
  {
   "cell_type": "code",
   "execution_count": 124,
   "metadata": {},
   "outputs": [
    {
     "data": {
      "text/plain": [
       "'2.24.0'"
      ]
     },
     "execution_count": 124,
     "metadata": {},
     "output_type": "execute_result"
    }
   ],
   "source": [
    "import requests\n",
    "requests.__version__"
   ]
  },
  {
   "cell_type": "code",
   "execution_count": 125,
   "metadata": {},
   "outputs": [],
   "source": [
    "# Import the datetime module from the datetime library.\n",
    "from datetime import datetime"
   ]
  },
  {
   "cell_type": "code",
   "execution_count": 126,
   "metadata": {},
   "outputs": [],
   "source": [
    "from config import weather_api_key"
   ]
  },
  {
   "cell_type": "code",
   "execution_count": 127,
   "metadata": {},
   "outputs": [
    {
     "name": "stdout",
     "output_type": "stream",
     "text": [
      "http://api.openweathermap.org/data/2.5/weather?units=Imperial&APPID=9b233914f53e6d65b694d53010e3dcc0\n"
     ]
    }
   ],
   "source": [
    "url = \"http://api.openweathermap.org/data/2.5/weather?units=Imperial&APPID=\" + weather_api_key\n",
    "print(url)"
   ]
  },
  {
   "cell_type": "code",
   "execution_count": 128,
   "metadata": {},
   "outputs": [],
   "source": [
    "#Loop through all the cities in our list.\n",
    "for i in range(len(cities)):\n",
    "\n",
    "    # Group cities in sets of 50 for logging purposes.\n",
    "    if (i % 50 == 0 and i >= 50):\n",
    "        set_count += 1\n",
    "        record_count = 1\n",
    "    # Create endpoint URL with each city.\n",
    "    city_url = url + \"&q=\" + cities[i]"
   ]
  },
  {
   "cell_type": "code",
   "execution_count": null,
   "metadata": {},
   "outputs": [],
   "source": []
  },
  {
   "cell_type": "code",
   "execution_count": 129,
   "metadata": {},
   "outputs": [],
   "source": [
    "# Loop through all the cities in our list.\n",
    "for i in range(len(cities)):\n",
    "    # Group cities in sets of 50 for logging purposes.\n",
    "    if (i % 50 == 0 and i >= 50):\n",
    "        set_count += 1\n",
    "        record_count = 1\n",
    "    # Create endpoint URL with each city.\n",
    "    city_url = url + \"&q=\" + cities[i]"
   ]
  },
  {
   "cell_type": "code",
   "execution_count": 130,
   "metadata": {},
   "outputs": [
    {
     "name": "stdout",
     "output_type": "stream",
     "text": [
      "http://api.openweathermap.org/data/2.5/weather?units=Imperial&APPID=9b233914f53e6d65b694d53010e3dcc0&q=saint george\n"
     ]
    }
   ],
   "source": [
    "print(city_url)"
   ]
  },
  {
   "cell_type": "code",
   "execution_count": 131,
   "metadata": {},
   "outputs": [
    {
     "name": "stdout",
     "output_type": "stream",
     "text": [
      "Beginning Data Retrieval     \n",
      "-----------------------------\n",
      "Processing Record 1 of Set 1 | cockburn town | http://api.openweathermap.org/data/2.5/weather?units=Imperial&APPID=9b233914f53e6d65b694d53010e3dcc0&q=cockburn+town\n",
      "Processing Record 2 of Set 1 | gat | http://api.openweathermap.org/data/2.5/weather?units=Imperial&APPID=9b233914f53e6d65b694d53010e3dcc0&q=gat\n",
      "Processing Record 3 of Set 1 | parvatsar | http://api.openweathermap.org/data/2.5/weather?units=Imperial&APPID=9b233914f53e6d65b694d53010e3dcc0&q=parvatsar\n",
      "Processing Record 4 of Set 1 | punta arenas | http://api.openweathermap.org/data/2.5/weather?units=Imperial&APPID=9b233914f53e6d65b694d53010e3dcc0&q=punta+arenas\n",
      "Processing Record 5 of Set 1 | saint george | http://api.openweathermap.org/data/2.5/weather?units=Imperial&APPID=9b233914f53e6d65b694d53010e3dcc0&q=saint+george\n",
      "-----------------------------\n",
      "Data Retrieval Complete      \n",
      "-----------------------------\n"
     ]
    }
   ],
   "source": [
    "# Create an empty list to hold the weather data.\n",
    "city_data = []\n",
    "# Print the beginning of the logging.\n",
    "print(\"Beginning Data Retrieval     \")\n",
    "print(\"-----------------------------\")\n",
    "\n",
    "# Create counters.\n",
    "record_count = 1\n",
    "set_count = 1\n",
    "\n",
    "# Loop through all the cities in the list.\n",
    "for i, city in enumerate(cities):\n",
    "\n",
    "    # Group cities in sets of 50 for logging purposes.\n",
    "    if (i % 50 == 0 and i >= 50):\n",
    "        set_count += 1\n",
    "        record_count = 1\n",
    "    # Create endpoint URL with each city.\n",
    "    city_url = url + \"&q=\" + city.replace(\" \",\"+\")\n",
    "\n",
    "    # Log the URL, record, and set numbers and the city.\n",
    "    print(f\"Processing Record {record_count} of Set {set_count} | {city} | {city_url}\")\n",
    "    # Add 1 to the record count.\n",
    "    record_count += 1\n",
    "    try:\n",
    "\n",
    "        # Parse the JSON and retrieve data.\n",
    "        city_weather = requests.get(city_url).json()\n",
    "        # Parse out the needed data.\n",
    "        city_lat = city_weather[\"coord\"][\"lat\"]\n",
    "        city_lng = city_weather[\"coord\"][\"lon\"]\n",
    "        city_max_temp = city_weather[\"main\"][\"temp_max\"]\n",
    "        city_humidity = city_weather[\"main\"][\"humidity\"]\n",
    "        city_clouds = city_weather[\"clouds\"][\"all\"]\n",
    "        city_wind = city_weather[\"wind\"][\"speed\"]\n",
    "        city_country = city_weather[\"sys\"][\"country\"]\n",
    "        # Convert the date to ISO standard.\n",
    "        city_date = datetime.utcfromtimestamp(city_weather[\"dt\"]).strftime('%Y-%m-%d %H:%M:%S')\n",
    "        # Append the city information into city_data list.\n",
    "        city_data.append({\"City\": city.title(),\n",
    "                          \"Lat\": city_lat,\n",
    "                          \"Lng\": city_lng,\n",
    "                          \"Max Temp\": city_max_temp,\n",
    "                          \"Humidity\": city_humidity,\n",
    "                          \"Cloudiness\": city_clouds,\n",
    "                          \"Wind Speed\": city_wind,\n",
    "                          \"Country\": city_country,\n",
    "                          \"Date\": city_date})\n",
    "# If an error is experienced, skip the city.\n",
    "    except:\n",
    "        print(\"City not found. Skipping...\")\n",
    "        pass\n",
    "\n",
    "# Indicate that Data Loading is complete.\n",
    "print(\"-----------------------------\")\n",
    "print(\"Data Retrieval Complete      \")\n",
    "print(\"-----------------------------\")"
   ]
  },
  {
   "cell_type": "code",
   "execution_count": 132,
   "metadata": {},
   "outputs": [],
   "source": [
    "# Run an API request for each of the cities.\n"
   ]
  },
  {
   "cell_type": "code",
   "execution_count": 133,
   "metadata": {},
   "outputs": [
    {
     "data": {
      "text/html": [
       "<div>\n",
       "<style scoped>\n",
       "    .dataframe tbody tr th:only-of-type {\n",
       "        vertical-align: middle;\n",
       "    }\n",
       "\n",
       "    .dataframe tbody tr th {\n",
       "        vertical-align: top;\n",
       "    }\n",
       "\n",
       "    .dataframe thead th {\n",
       "        text-align: right;\n",
       "    }\n",
       "</style>\n",
       "<table border=\"1\" class=\"dataframe\">\n",
       "  <thead>\n",
       "    <tr style=\"text-align: right;\">\n",
       "      <th></th>\n",
       "      <th>City</th>\n",
       "      <th>Lat</th>\n",
       "      <th>Lng</th>\n",
       "      <th>Max Temp</th>\n",
       "      <th>Humidity</th>\n",
       "      <th>Cloudiness</th>\n",
       "      <th>Wind Speed</th>\n",
       "      <th>Country</th>\n",
       "      <th>Date</th>\n",
       "    </tr>\n",
       "  </thead>\n",
       "  <tbody>\n",
       "    <tr>\n",
       "      <th>0</th>\n",
       "      <td>Cockburn Town</td>\n",
       "      <td>21.4612</td>\n",
       "      <td>-71.1419</td>\n",
       "      <td>78.80</td>\n",
       "      <td>69</td>\n",
       "      <td>40</td>\n",
       "      <td>9.22</td>\n",
       "      <td>TC</td>\n",
       "      <td>2021-01-10 22:55:04</td>\n",
       "    </tr>\n",
       "    <tr>\n",
       "      <th>1</th>\n",
       "      <td>Gat</td>\n",
       "      <td>31.6100</td>\n",
       "      <td>34.7642</td>\n",
       "      <td>59.00</td>\n",
       "      <td>67</td>\n",
       "      <td>0</td>\n",
       "      <td>3.44</td>\n",
       "      <td>IL</td>\n",
       "      <td>2021-01-10 22:55:04</td>\n",
       "    </tr>\n",
       "    <tr>\n",
       "      <th>2</th>\n",
       "      <td>Parvatsar</td>\n",
       "      <td>26.8833</td>\n",
       "      <td>74.7667</td>\n",
       "      <td>52.02</td>\n",
       "      <td>44</td>\n",
       "      <td>0</td>\n",
       "      <td>5.41</td>\n",
       "      <td>IN</td>\n",
       "      <td>2021-01-10 22:54:23</td>\n",
       "    </tr>\n",
       "    <tr>\n",
       "      <th>3</th>\n",
       "      <td>Punta Arenas</td>\n",
       "      <td>-53.1500</td>\n",
       "      <td>-70.9167</td>\n",
       "      <td>48.20</td>\n",
       "      <td>81</td>\n",
       "      <td>90</td>\n",
       "      <td>13.80</td>\n",
       "      <td>CL</td>\n",
       "      <td>2021-01-10 22:54:23</td>\n",
       "    </tr>\n",
       "    <tr>\n",
       "      <th>4</th>\n",
       "      <td>Saint George</td>\n",
       "      <td>37.1041</td>\n",
       "      <td>-113.5841</td>\n",
       "      <td>50.00</td>\n",
       "      <td>29</td>\n",
       "      <td>1</td>\n",
       "      <td>3.44</td>\n",
       "      <td>US</td>\n",
       "      <td>2021-01-10 22:51:47</td>\n",
       "    </tr>\n",
       "  </tbody>\n",
       "</table>\n",
       "</div>"
      ],
      "text/plain": [
       "            City      Lat       Lng  Max Temp  Humidity  Cloudiness  \\\n",
       "0  Cockburn Town  21.4612  -71.1419     78.80        69          40   \n",
       "1            Gat  31.6100   34.7642     59.00        67           0   \n",
       "2      Parvatsar  26.8833   74.7667     52.02        44           0   \n",
       "3   Punta Arenas -53.1500  -70.9167     48.20        81          90   \n",
       "4   Saint George  37.1041 -113.5841     50.00        29           1   \n",
       "\n",
       "   Wind Speed Country                 Date  \n",
       "0        9.22      TC  2021-01-10 22:55:04  \n",
       "1        3.44      IL  2021-01-10 22:55:04  \n",
       "2        5.41      IN  2021-01-10 22:54:23  \n",
       "3       13.80      CL  2021-01-10 22:54:23  \n",
       "4        3.44      US  2021-01-10 22:51:47  "
      ]
     },
     "execution_count": 133,
     "metadata": {},
     "output_type": "execute_result"
    }
   ],
   "source": [
    "# Convert the array of dictionaries to a Pandas DataFrame.\n",
    "city_data_df = pd.DataFrame(city_data)\n",
    "city_data_df.head(10)"
   ]
  },
  {
   "cell_type": "code",
   "execution_count": 134,
   "metadata": {},
   "outputs": [],
   "source": [
    "# Create the output file (CSV).\n",
    "output_data_file = \"weather_data/cities.csv\"\n",
    "# Export the City_Data into a CSV.\n",
    "city_data_df.to_csv(output_data_file, index_label=\"City_ID\")"
   ]
  },
  {
   "cell_type": "code",
   "execution_count": 135,
   "metadata": {},
   "outputs": [],
   "source": [
    "# Extract relevant fields from the DataFrame for plotting.\n",
    "lats = city_data_df[\"Lat\"]\n",
    "max_temps = city_data_df[\"Max Temp\"]\n",
    "humidity = city_data_df[\"Humidity\"]\n",
    "cloudiness = city_data_df[\"Cloudiness\"]\n",
    "wind_speed = city_data_df[\"Wind Speed\"]"
   ]
  },
  {
   "cell_type": "code",
   "execution_count": 136,
   "metadata": {},
   "outputs": [
    {
     "data": {
      "text/plain": [
       "1610319309.837524"
      ]
     },
     "execution_count": 136,
     "metadata": {},
     "output_type": "execute_result"
    }
   ],
   "source": [
    "# Import the time module.\n",
    "import time\n",
    "# Get today's date in seconds.\n",
    "today = time.time()\n",
    "today\n"
   ]
  },
  {
   "cell_type": "code",
   "execution_count": 137,
   "metadata": {},
   "outputs": [
    {
     "data": {
      "image/png": "[encoded data removed]",
      "text/plain": [
       "<Figure size 432x288 with 1 Axes>"
      ]
     },
     "metadata": {
      "needs_background": "light"
     },
     "output_type": "display_data"
    }
   ],
   "source": [
    "# Import time module\n",
    "import time\n",
    "\n",
    "# Build the scatter plot for latitude vs. max temperature.\n",
    "plt.scatter(lats,\n",
    "            max_temps,\n",
    "            edgecolor=\"black\", linewidths=1, marker=\"o\",\n",
    "            alpha=0.8, label=\"Cities\")\n",
    "\n",
    "# Incorporate the other graph properties.\n",
    "plt.title(f\"City Latitude vs. Max Temperature \"+ time.strftime(\"%x\"))\n",
    "plt.ylabel(\"Max Temperature (F)\")\n",
    "plt.xlabel(\"Latitude\")\n",
    "plt.grid(True)\n",
    "\n",
    "# Save the figure.\n",
    "plt.savefig(\"weather_data/Fig1.png\")\n",
    "\n",
    "# Show plot.\n",
    "plt.show()"
   ]
  },
  {
   "cell_type": "code",
   "execution_count": 138,
   "metadata": {},
   "outputs": [
    {
     "data": {
      "image/png": "[encoded data removed]",
      "text/plain": [
       "<Figure size 432x288 with 1 Axes>"
      ]
     },
     "metadata": {
      "needs_background": "light"
     },
     "output_type": "display_data"
    }
   ],
   "source": [
    "# Build the scatter plots for latitude vs. humidity.\n",
    "plt.scatter(lats,\n",
    "            humidity,\n",
    "            edgecolor=\"black\", linewidths=1, marker=\"o\",\n",
    "            alpha=0.8, label=\"Cities\")\n",
    "\n",
    "# Incorporate the other graph properties.\n",
    "plt.title(f\"City Latitude vs. Humidity \"+ time.strftime(\"%x\"))\n",
    "plt.ylabel(\"Humidity (%)\")\n",
    "plt.xlabel(\"Latitude\")\n",
    "plt.grid(True)\n",
    "# Save the figure.\n",
    "plt.savefig(\"weather_data/Fig2.png\")\n",
    "# Show plot.\n",
    "plt.show()"
   ]
  },
  {
   "cell_type": "code",
   "execution_count": 139,
   "metadata": {},
   "outputs": [
    {
     "data": {
      "image/png": "[encoded data removed]",
      "text/plain": [
       "<Figure size 432x288 with 1 Axes>"
      ]
     },
     "metadata": {
      "needs_background": "light"
     },
     "output_type": "display_data"
    }
   ],
   "source": [
    "# Build the scatter plots for latitude vs. cloudiness.\n",
    "plt.scatter(lats,\n",
    "            cloudiness,\n",
    "            edgecolor=\"black\", linewidths=1, marker=\"o\",\n",
    "            alpha=0.8, label=\"Cities\")\n",
    "\n",
    "# Incorporate the other graph properties.\n",
    "plt.title(f\"City Latitude vs. Cloudiness (%) \"+ time.strftime(\"%x\"))\n",
    "plt.ylabel(\"Cloudiness (%)\")\n",
    "plt.xlabel(\"Latitude\")\n",
    "plt.grid(True)\n",
    "# Save the figure.\n",
    "plt.savefig(\"weather_data/Fig3.png\")\n",
    "# Show plot.\n",
    "plt.show()"
   ]
  },
  {
   "cell_type": "code",
   "execution_count": 140,
   "metadata": {},
   "outputs": [
    {
     "data": {
      "image/png": "[encoded data removed]",
      "text/plain": [
       "<Figure size 432x288 with 1 Axes>"
      ]
     },
     "metadata": {
      "needs_background": "light"
     },
     "output_type": "display_data"
    }
   ],
   "source": [
    "# Build the scatter plots for latitude vs. wind speed.\n",
    "plt.scatter(lats,\n",
    "            wind_speed,\n",
    "            edgecolor=\"black\", linewidths=1, marker=\"o\",\n",
    "            alpha=0.8, label=\"Cities\")\n",
    "\n",
    "# Incorporate the other graph properties.\n",
    "plt.title(f\"City Latitude vs. Wind Speed \"+ time.strftime(\"%x\"))\n",
    "plt.ylabel(\"Wind Speed (mph)\")\n",
    "plt.xlabel(\"Latitude\")\n",
    "plt.grid(True)\n",
    "# Save the figure.\n",
    "plt.savefig(\"weather_data/Fig4.png\")\n",
    "# Show plot.\n",
    "plt.show()"
   ]
  },
  {
   "cell_type": "code",
   "execution_count": 153,
   "metadata": {},
   "outputs": [],
   "source": [
    "# Import linear regression from the SciPy stats module.\n",
    "from scipy.stats import linregress as stats"
   ]
  },
  {
   "cell_type": "code",
   "execution_count": 154,
   "metadata": {},
   "outputs": [],
   "source": [
    "# Create an equal number of latitudes and temperatures.\n",
    "lats = [42.5, 43.9, 8.1, 36.8, 79.9, 69.1, 25.7, 15.3, 12.7, 64.5]\n",
    "temps = [80.5, 75.3, 90.9, 90.0, 40.4, 62.3, 85.4, 79.6, 72.5, 72.0]\n"
   ]
  },
  {
   "cell_type": "code",
   "execution_count": 155,
   "metadata": {},
   "outputs": [
    {
     "name": "stdout",
     "output_type": "stream",
     "text": [
      "y = -0.45x + 92.94\n",
      "The p-value is: 0.011\n"
     ]
    }
   ],
   "source": [
    "# Perform linear regression.\n",
    "(slope, intercept, r_value, p_value, std_err) = linregress(lats, temps)\n",
    "# Get the equation of the line.\n",
    "line_eq = \"y = \" + str(round(slope,2)) + \"x + \" + str(round(intercept,2))\n",
    "print(line_eq)\n",
    "print(f\"The p-value is: {p_value:.3f}\")"
   ]
  },
  {
   "cell_type": "code",
   "execution_count": 178,
   "metadata": {},
   "outputs": [],
   "source": [
    "# Calculate the regression line \"y values\" from the slope and intercept.\n",
    "regress_values = [(lat * slope + intercept) for lat in lats]\n"
   ]
  },
  {
   "cell_type": "code",
   "execution_count": 157,
   "metadata": {},
   "outputs": [
    {
     "data": {
      "image/png": "[encoded data removed]",
      "text/plain": [
       "<Figure size 432x288 with 1 Axes>"
      ]
     },
     "metadata": {
      "needs_background": "light"
     },
     "output_type": "display_data"
    }
   ],
   "source": []
  },
  {
   "cell_type": "code",
   "execution_count": 179,
   "metadata": {},
   "outputs": [],
   "source": [
    "# Import linregress\n",
    "from scipy.stats import linregress\n",
    "\n",
    "# Create a function to create perform linear regression on the weather data\n",
    "# and plot a regression line and the equation with the data.\n",
    "def plot_linear_regression(x_values, y_values, title, y_label, text_coordinates):\n",
    "\n",
    "    # Run regression on hemisphere weather data.\n",
    "    (slope, intercept, r_value, p_value, std_err) = linregress(x_values, y_values)\n",
    "\n",
    "    # Calculate the regression line \"y values\" from the slope and intercept.\n",
    "    regress_values = x_values * slope + intercept\n",
    "    # Get the equation of the line.\n",
    "    line_eq = \"y = \" + str(round(slope,2)) + \"x + \" + str(round(intercept,2))\n",
    "    # Create a scatter plot and plot the regression line.\n",
    "    plt.scatter(x_values,y_values)\n",
    "    plt.plot(x_values,regress_values,\"r\")\n",
    "    # Annotate the text for the line equation.\n",
    "    plt.annotate(line_eq, text_coordinates, fontsize=15, color=\"red\")\n",
    "    plt.xlabel('Latitude')\n",
    "    plt.ylabel(y_label)\n",
    "    plt.show()"
   ]
  },
  {
   "cell_type": "code",
   "execution_count": 186,
   "metadata": {},
   "outputs": [
    {
     "data": {
      "text/html": [
       "<div>\n",
       "<style scoped>\n",
       "    .dataframe tbody tr th:only-of-type {\n",
       "        vertical-align: middle;\n",
       "    }\n",
       "\n",
       "    .dataframe tbody tr th {\n",
       "        vertical-align: top;\n",
       "    }\n",
       "\n",
       "    .dataframe thead th {\n",
       "        text-align: right;\n",
       "    }\n",
       "</style>\n",
       "<table border=\"1\" class=\"dataframe\">\n",
       "  <thead>\n",
       "    <tr style=\"text-align: right;\">\n",
       "      <th></th>\n",
       "      <th>City</th>\n",
       "      <th>Lat</th>\n",
       "      <th>Lng</th>\n",
       "      <th>Max Temp</th>\n",
       "      <th>Humidity</th>\n",
       "      <th>Cloudiness</th>\n",
       "      <th>Wind Speed</th>\n",
       "      <th>Country</th>\n",
       "      <th>Date</th>\n",
       "    </tr>\n",
       "  </thead>\n",
       "  <tbody>\n",
       "    <tr>\n",
       "      <th>0</th>\n",
       "      <td>Cockburn Town</td>\n",
       "      <td>21.4612</td>\n",
       "      <td>-71.1419</td>\n",
       "      <td>78.80</td>\n",
       "      <td>69</td>\n",
       "      <td>40</td>\n",
       "      <td>9.22</td>\n",
       "      <td>TC</td>\n",
       "      <td>2021-01-10 22:55:04</td>\n",
       "    </tr>\n",
       "    <tr>\n",
       "      <th>1</th>\n",
       "      <td>Gat</td>\n",
       "      <td>31.6100</td>\n",
       "      <td>34.7642</td>\n",
       "      <td>59.00</td>\n",
       "      <td>67</td>\n",
       "      <td>0</td>\n",
       "      <td>3.44</td>\n",
       "      <td>IL</td>\n",
       "      <td>2021-01-10 22:55:04</td>\n",
       "    </tr>\n",
       "    <tr>\n",
       "      <th>2</th>\n",
       "      <td>Parvatsar</td>\n",
       "      <td>26.8833</td>\n",
       "      <td>74.7667</td>\n",
       "      <td>52.02</td>\n",
       "      <td>44</td>\n",
       "      <td>0</td>\n",
       "      <td>5.41</td>\n",
       "      <td>IN</td>\n",
       "      <td>2021-01-10 22:54:23</td>\n",
       "    </tr>\n",
       "    <tr>\n",
       "      <th>4</th>\n",
       "      <td>Saint George</td>\n",
       "      <td>37.1041</td>\n",
       "      <td>-113.5841</td>\n",
       "      <td>50.00</td>\n",
       "      <td>29</td>\n",
       "      <td>1</td>\n",
       "      <td>3.44</td>\n",
       "      <td>US</td>\n",
       "      <td>2021-01-10 22:51:47</td>\n",
       "    </tr>\n",
       "  </tbody>\n",
       "</table>\n",
       "</div>"
      ],
      "text/plain": [
       "            City      Lat       Lng  Max Temp  Humidity  Cloudiness  \\\n",
       "0  Cockburn Town  21.4612  -71.1419     78.80        69          40   \n",
       "1            Gat  31.6100   34.7642     59.00        67           0   \n",
       "2      Parvatsar  26.8833   74.7667     52.02        44           0   \n",
       "4   Saint George  37.1041 -113.5841     50.00        29           1   \n",
       "\n",
       "   Wind Speed Country                 Date  \n",
       "0        9.22      TC  2021-01-10 22:55:04  \n",
       "1        3.44      IL  2021-01-10 22:55:04  \n",
       "2        5.41      IN  2021-01-10 22:54:23  \n",
       "4        3.44      US  2021-01-10 22:51:47  "
      ]
     },
     "execution_count": 186,
     "metadata": {},
     "output_type": "execute_result"
    }
   ],
   "source": [
    "northern_hemi_df=city_data_df.loc[(city_data_df[\"Lat\"] >= 0)].head()\n",
    "northern_hemi_df\n"
   ]
  },
  {
   "cell_type": "code",
   "execution_count": 188,
   "metadata": {},
   "outputs": [
    {
     "data": {
      "image/png": "[encoded data removed]",
      "text/plain": [
       "<Figure size 432x288 with 1 Axes>"
      ]
     },
     "metadata": {
      "needs_background": "light"
     },
     "output_type": "display_data"
    }
   ],
   "source": [
    "# Linear regression on the Northern Hemisphere\n",
    "x_values = northern_hemi_df[\"Lat\"]\n",
    "y_values = northern_hemi_df[\"Max Temp\"]\n",
    "# Call the function.\n",
    "plot_linear_regression(x_values, y_values,'Linear Regression on the Northern Hemisphere \\\n",
    "                        for Maximum Temperature', 'Max Temp',(10,40))"
   ]
  },
  {
   "cell_type": "code",
   "execution_count": 192,
   "metadata": {},
   "outputs": [
    {
     "data": {
      "image/png": "[encoded data removed]",
      "text/plain": [
       "<Figure size 432x288 with 1 Axes>"
      ]
     },
     "metadata": {
      "needs_background": "light"
     },
     "output_type": "display_data"
    }
   ],
   "source": [
    "southern_hemi_df=city_data_df.loc[(city_data_df[\"Lat\"] >= 0)].head()\n",
    "# Linear regression on the Southern Hemisphere\n",
    "x_values = southern_hemi_df[\"Lat\"]\n",
    "y_values = southern_hemi_df[\"Max Temp\"]\n",
    "# Call the function.\n",
    "plot_linear_regression(x_values, y_values,'Linear Regression on the Southern Hemisphere \\for Maximum Temperature', 'Max Temp',(-50,90))"
   ]
  },
  {
   "cell_type": "code",
   "execution_count": 193,
   "metadata": {},
   "outputs": [
    {
     "data": {
      "image/png": "[encoded data removed]",
      "text/plain": [
       "<Figure size 432x288 with 1 Axes>"
      ]
     },
     "metadata": {
      "needs_background": "light"
     },
     "output_type": "display_data"
    }
   ],
   "source": [
    "# Linear regression on the Northern Hemisphere\n",
    "x_values = northern_hemi_df[\"Lat\"]\n",
    "y_values = northern_hemi_df[\"Humidity\"]\n",
    "# Call the function.\n",
    "plot_linear_regression(x_values, y_values,\n",
    "                       'Linear Regression on the Northern Hemisphere \\\n",
    "                        for % Humidity', '% Humidity',(40,10))\n"
   ]
  },
  {
   "cell_type": "code",
   "execution_count": 195,
   "metadata": {},
   "outputs": [
    {
     "data": {
      "image/png": "[encoded data removed]",
      "text/plain": [
       "<Figure size 432x288 with 1 Axes>"
      ]
     },
     "metadata": {
      "needs_background": "light"
     },
     "output_type": "display_data"
    }
   ],
   "source": [
    "# Linear regression on the Southern Hemisphere\n",
    "x_values = southern_hemi_df[\"Lat\"]\n",
    "y_values = southern_hemi_df[\"Cloudiness\"]\n",
    "# Call the function.\n",
    "plot_linear_regression(x_values, y_values,'Linear Regression on the Southern Hemisphere \\n for % Cloudiness', '% Cloudiness',(-50,60))"
   ]
  },
  {
   "cell_type": "code",
   "execution_count": 198,
   "metadata": {},
   "outputs": [
    {
     "data": {
      "image/png": "[encoded data removed]",
      "text/plain": [
       "<Figure size 432x288 with 1 Axes>"
      ]
     },
     "metadata": {
      "needs_background": "light"
     },
     "output_type": "display_data"
    }
   ],
   "source": [
    "# Linear regression on the Northern Hemisphere\n",
    "x_values = northern_hemi_df[\"Lat\"]\n",
    "y_values = northern_hemi_df[\"Wind Speed\"]\n",
    "# Call the function.\n",
    "plot_linear_regression(x_values, y_values,'Linear Regression on the Northern Hemisphere \\n for Wind Speed', 'Wind Speed',(40,35))\n"
   ]
  },
  {
   "cell_type": "code",
   "execution_count": 200,
   "metadata": {},
   "outputs": [
    {
     "data": {
      "image/png": "[encoded data removed]",
      "text/plain": [
       "<Figure size 432x288 with 1 Axes>"
      ]
     },
     "metadata": {
      "needs_background": "light"
     },
     "output_type": "display_data"
    }
   ],
   "source": [
    "# Linear regression on the Southern Hemisphere\n",
    "x_values = southern_hemi_df[\"Lat\"]\n",
    "y_values = southern_hemi_df[\"Wind Speed\"]\n",
    "# Call the function.\n",
    "plot_linear_regression(x_values, y_values,'Linear Regression on the Southern Hemisphere \\n for Wind Speed', 'Wind Speed',(-50,35))"
   ]
  },
  {
   "cell_type": "code",
   "execution_count": 277,
   "metadata": {},
   "outputs": [
    {
     "ename": "ImportError",
     "evalue": "cannot import name 'g_key' from 'config' (/Users/raajasrini/Documents/Srinir/MyWork/AnalysisProjects/World_Weather_Analysis/config.py)",
     "output_type": "error",
     "traceback": [
      "\u001b[0;31m---------------------------------------------------------------------------\u001b[0m",
      "\u001b[0;31mImportError\u001b[0m                               Traceback (most recent call last)",
      "\u001b[0;32m<ipython-input-277-546b7ee8bd33>\u001b[0m in \u001b[0;36m<module>\u001b[0;34m\u001b[0m\n\u001b[1;32m      4\u001b[0m \u001b[0;32mimport\u001b[0m \u001b[0mrequests\u001b[0m\u001b[0;34m\u001b[0m\u001b[0;34m\u001b[0m\u001b[0m\n\u001b[1;32m      5\u001b[0m \u001b[0;31m# Import the API key.\u001b[0m\u001b[0;34m\u001b[0m\u001b[0;34m\u001b[0m\u001b[0;34m\u001b[0m\u001b[0m\n\u001b[0;32m----> 6\u001b[0;31m \u001b[0;32mfrom\u001b[0m \u001b[0mconfig\u001b[0m \u001b[0;32mimport\u001b[0m \u001b[0mg_key\u001b[0m\u001b[0;34m\u001b[0m\u001b[0;34m\u001b[0m\u001b[0m\n\u001b[0m",
      "\u001b[0;31mImportError\u001b[0m: cannot import name 'g_key' from 'config' (/Users/raajasrini/Documents/Srinir/MyWork/AnalysisProjects/World_Weather_Analysis/config.py)"
     ]
    }
   ],
   "source": [
    "# Import the dependencies.\n",
    "import pandas as pd\n",
    "import gmaps\n",
    "import requests\n",
    "# Import the API key.\n",
    "from config import g_key\n"
   ]
  },
  {
   "cell_type": "code",
   "execution_count": 228,
   "metadata": {},
   "outputs": [
    {
     "data": {
      "text/html": [
       "<div>\n",
       "<style scoped>\n",
       "    .dataframe tbody tr th:only-of-type {\n",
       "        vertical-align: middle;\n",
       "    }\n",
       "\n",
       "    .dataframe tbody tr th {\n",
       "        vertical-align: top;\n",
       "    }\n",
       "\n",
       "    .dataframe thead th {\n",
       "        text-align: right;\n",
       "    }\n",
       "</style>\n",
       "<table border=\"1\" class=\"dataframe\">\n",
       "  <thead>\n",
       "    <tr style=\"text-align: right;\">\n",
       "      <th></th>\n",
       "      <th>City_ID</th>\n",
       "      <th>City</th>\n",
       "      <th>Lat</th>\n",
       "      <th>Lng</th>\n",
       "      <th>Max Temp</th>\n",
       "      <th>Humidity</th>\n",
       "      <th>Cloudiness</th>\n",
       "      <th>Wind Speed</th>\n",
       "      <th>Country</th>\n",
       "      <th>Date</th>\n",
       "    </tr>\n",
       "  </thead>\n",
       "  <tbody>\n",
       "    <tr>\n",
       "      <th>0</th>\n",
       "      <td>0</td>\n",
       "      <td>Cockburn Town</td>\n",
       "      <td>21.4612</td>\n",
       "      <td>-71.1419</td>\n",
       "      <td>78.80</td>\n",
       "      <td>69</td>\n",
       "      <td>40</td>\n",
       "      <td>9.22</td>\n",
       "      <td>TC</td>\n",
       "      <td>2021-01-10 22:55:04</td>\n",
       "    </tr>\n",
       "    <tr>\n",
       "      <th>1</th>\n",
       "      <td>1</td>\n",
       "      <td>Gat</td>\n",
       "      <td>31.6100</td>\n",
       "      <td>34.7642</td>\n",
       "      <td>59.00</td>\n",
       "      <td>67</td>\n",
       "      <td>0</td>\n",
       "      <td>3.44</td>\n",
       "      <td>IL</td>\n",
       "      <td>2021-01-10 22:55:04</td>\n",
       "    </tr>\n",
       "    <tr>\n",
       "      <th>2</th>\n",
       "      <td>2</td>\n",
       "      <td>Parvatsar</td>\n",
       "      <td>26.8833</td>\n",
       "      <td>74.7667</td>\n",
       "      <td>52.02</td>\n",
       "      <td>44</td>\n",
       "      <td>0</td>\n",
       "      <td>5.41</td>\n",
       "      <td>IN</td>\n",
       "      <td>2021-01-10 22:54:23</td>\n",
       "    </tr>\n",
       "    <tr>\n",
       "      <th>3</th>\n",
       "      <td>3</td>\n",
       "      <td>Punta Arenas</td>\n",
       "      <td>-53.1500</td>\n",
       "      <td>-70.9167</td>\n",
       "      <td>48.20</td>\n",
       "      <td>81</td>\n",
       "      <td>90</td>\n",
       "      <td>13.80</td>\n",
       "      <td>CL</td>\n",
       "      <td>2021-01-10 22:54:23</td>\n",
       "    </tr>\n",
       "    <tr>\n",
       "      <th>4</th>\n",
       "      <td>4</td>\n",
       "      <td>Saint George</td>\n",
       "      <td>37.1041</td>\n",
       "      <td>-113.5841</td>\n",
       "      <td>50.00</td>\n",
       "      <td>29</td>\n",
       "      <td>1</td>\n",
       "      <td>3.44</td>\n",
       "      <td>US</td>\n",
       "      <td>2021-01-10 22:51:47</td>\n",
       "    </tr>\n",
       "  </tbody>\n",
       "</table>\n",
       "</div>"
      ],
      "text/plain": [
       "   City_ID           City      Lat       Lng  Max Temp  Humidity  Cloudiness  \\\n",
       "0        0  Cockburn Town  21.4612  -71.1419     78.80        69          40   \n",
       "1        1            Gat  31.6100   34.7642     59.00        67           0   \n",
       "2        2      Parvatsar  26.8833   74.7667     52.02        44           0   \n",
       "3        3   Punta Arenas -53.1500  -70.9167     48.20        81          90   \n",
       "4        4   Saint George  37.1041 -113.5841     50.00        29           1   \n",
       "\n",
       "   Wind Speed Country                 Date  \n",
       "0        9.22      TC  2021-01-10 22:55:04  \n",
       "1        3.44      IL  2021-01-10 22:55:04  \n",
       "2        5.41      IN  2021-01-10 22:54:23  \n",
       "3       13.80      CL  2021-01-10 22:54:23  \n",
       "4        3.44      US  2021-01-10 22:51:47  "
      ]
     },
     "execution_count": 228,
     "metadata": {},
     "output_type": "execute_result"
    }
   ],
   "source": [
    "# Store the CSV you saved created in part one into a DataFrame.\n",
    "city_data_df = pd.read_csv(\"weather_data/cities.csv\")\n",
    "city_data_df.head()"
   ]
  },
  {
   "cell_type": "code",
   "execution_count": 229,
   "metadata": {},
   "outputs": [],
   "source": [
    "# Configure gmaps to use your Google API key.\n",
    "gmaps.configure(api_key=g_key)"
   ]
  },
  {
   "cell_type": "code",
   "execution_count": 235,
   "metadata": {},
   "outputs": [
    {
     "data": {
      "application/vnd.jupyter.widget-view+json": {
       "model_id": "e77d0e86186842c6b706714c22e8b0e4",
       "version_major": 2,
       "version_minor": 0
      },
      "text/plain": [
       "Figure(layout=FigureLayout(height='420px'))"
      ]
     },
     "metadata": {},
     "output_type": "display_data"
    }
   ],
   "source": [
    "# Heatmap of temperature\n",
    "# Get the latitude and longitude.\n",
    "locations = city_data_df[[\"Lat\", \"Lng\"]]\n",
    "# Get the maximum temperature.\n",
    "max_temp = city_data_df[\"Max Temp\"]\n",
    "# Assign the figure variable.\n",
    "fig = gmaps.figure()\n",
    "# Assign the heatmap variable.\n",
    "#heat_layer = gmaps.heatmap_layer(locations, weights=max_temp)\n",
    "heat_layer = gmaps.heatmap_layer(locations, weights=[max(temp, 0) for temp in max_temp])\n",
    "# Add the heatmap layer.\n",
    "fig.add_layer(heat_layer)\n",
    "# Call the figure to plot the data.\n",
    "fig"
   ]
  },
  {
   "cell_type": "code",
   "execution_count": 231,
   "metadata": {},
   "outputs": [],
   "source": [
    "heat_layer = gmaps.heatmap_layer(locations, weights=max_temp)\n"
   ]
  },
  {
   "cell_type": "code",
   "execution_count": 232,
   "metadata": {},
   "outputs": [],
   "source": [
    "# Get the maximum temperature.\n",
    "max_temp = city_data_df[\"Max Temp\"]\n",
    "temps = []\n",
    "for temp in max_temp:\n",
    "    temps.append(max(temp, 0))"
   ]
  },
  {
   "cell_type": "code",
   "execution_count": 234,
   "metadata": {},
   "outputs": [],
   "source": [
    "heat_layer = gmaps.heatmap_layer(locations, weights=[max(temp, 0) for temp in max_temp])"
   ]
  },
  {
   "cell_type": "code",
   "execution_count": 237,
   "metadata": {},
   "outputs": [
    {
     "data": {
      "application/vnd.jupyter.widget-view+json": {
       "model_id": "9816754a3f3345eebd2e8ad13e55b7f2",
       "version_major": 2,
       "version_minor": 0
      },
      "text/plain": [
       "Figure(layout=FigureLayout(height='420px'))"
      ]
     },
     "metadata": {},
     "output_type": "display_data"
    }
   ],
   "source": [
    "# Heatmap of percent humidity\n",
    "locations = city_data_df[[\"Lat\", \"Lng\"]]\n",
    "humidity = city_data_df[\"Humidity\"]\n",
    "fig = gmaps.figure(center=(30.0, 31.0), zoom_level=1.5)\n",
    "heat_layer = gmaps.heatmap_layer(locations, weights=humidity, dissipating=False, max_intensity=300, point_radius=4)\n",
    "\n",
    "fig.add_layer(heat_layer)\n",
    "# Call the figure to plot the data.\n",
    "fig"
   ]
  },
  {
   "cell_type": "code",
   "execution_count": 240,
   "metadata": {},
   "outputs": [
    {
     "name": "stdout",
     "output_type": "stream",
     "text": [
      "What is the minimum temperature you would like for your trip? 75\n",
      "What is the maximum temperature you would like for your trip? 90\n"
     ]
    }
   ],
   "source": [
    "# Ask the customer to add a minimum and maximum temperature value.\n",
    "min_temp = float(input(\"What is the minimum temperature you would like for your trip? \"))\n",
    "max_temp = float(input(\"What is the maximum temperature you would like for your trip? \"))\n"
   ]
  },
  {
   "cell_type": "code",
   "execution_count": 241,
   "metadata": {},
   "outputs": [
    {
     "data": {
      "text/html": [
       "<div>\n",
       "<style scoped>\n",
       "    .dataframe tbody tr th:only-of-type {\n",
       "        vertical-align: middle;\n",
       "    }\n",
       "\n",
       "    .dataframe tbody tr th {\n",
       "        vertical-align: top;\n",
       "    }\n",
       "\n",
       "    .dataframe thead th {\n",
       "        text-align: right;\n",
       "    }\n",
       "</style>\n",
       "<table border=\"1\" class=\"dataframe\">\n",
       "  <thead>\n",
       "    <tr style=\"text-align: right;\">\n",
       "      <th></th>\n",
       "      <th>City_ID</th>\n",
       "      <th>City</th>\n",
       "      <th>Lat</th>\n",
       "      <th>Lng</th>\n",
       "      <th>Max Temp</th>\n",
       "      <th>Humidity</th>\n",
       "      <th>Cloudiness</th>\n",
       "      <th>Wind Speed</th>\n",
       "      <th>Country</th>\n",
       "      <th>Date</th>\n",
       "    </tr>\n",
       "  </thead>\n",
       "  <tbody>\n",
       "    <tr>\n",
       "      <th>0</th>\n",
       "      <td>0</td>\n",
       "      <td>Cockburn Town</td>\n",
       "      <td>21.4612</td>\n",
       "      <td>-71.1419</td>\n",
       "      <td>78.8</td>\n",
       "      <td>69</td>\n",
       "      <td>40</td>\n",
       "      <td>9.22</td>\n",
       "      <td>TC</td>\n",
       "      <td>2021-01-10 22:55:04</td>\n",
       "    </tr>\n",
       "  </tbody>\n",
       "</table>\n",
       "</div>"
      ],
      "text/plain": [
       "   City_ID           City      Lat      Lng  Max Temp  Humidity  Cloudiness  \\\n",
       "0        0  Cockburn Town  21.4612 -71.1419      78.8        69          40   \n",
       "\n",
       "   Wind Speed Country                 Date  \n",
       "0        9.22      TC  2021-01-10 22:55:04  "
      ]
     },
     "execution_count": 241,
     "metadata": {},
     "output_type": "execute_result"
    }
   ],
   "source": [
    "# Filter the dataset to find the cities that fit the criteria.\n",
    "preferred_cities_df = city_data_df.loc[(city_data_df[\"Max Temp\"] <= max_temp) & \\\n",
    "                                       (city_data_df[\"Max Temp\"] >= min_temp)]\n",
    "preferred_cities_df.head(10)"
   ]
  },
  {
   "cell_type": "code",
   "execution_count": 245,
   "metadata": {},
   "outputs": [
    {
     "data": {
      "text/plain": [
       "City_ID       1\n",
       "City          1\n",
       "Lat           1\n",
       "Lng           1\n",
       "Max Temp      1\n",
       "Humidity      1\n",
       "Cloudiness    1\n",
       "Wind Speed    1\n",
       "Country       1\n",
       "Date          1\n",
       "dtype: int64"
      ]
     },
     "execution_count": 245,
     "metadata": {},
     "output_type": "execute_result"
    }
   ],
   "source": [
    "preferred_cities_df.notnull().sum()"
   ]
  },
  {
   "cell_type": "code",
   "execution_count": 246,
   "metadata": {},
   "outputs": [
    {
     "data": {
      "text/html": [
       "<div>\n",
       "<style scoped>\n",
       "    .dataframe tbody tr th:only-of-type {\n",
       "        vertical-align: middle;\n",
       "    }\n",
       "\n",
       "    .dataframe tbody tr th {\n",
       "        vertical-align: top;\n",
       "    }\n",
       "\n",
       "    .dataframe thead th {\n",
       "        text-align: right;\n",
       "    }\n",
       "</style>\n",
       "<table border=\"1\" class=\"dataframe\">\n",
       "  <thead>\n",
       "    <tr style=\"text-align: right;\">\n",
       "      <th></th>\n",
       "      <th>City</th>\n",
       "      <th>Country</th>\n",
       "      <th>Max Temp</th>\n",
       "      <th>Lat</th>\n",
       "      <th>Lng</th>\n",
       "      <th>Hotel Name</th>\n",
       "    </tr>\n",
       "  </thead>\n",
       "  <tbody>\n",
       "    <tr>\n",
       "      <th>0</th>\n",
       "      <td>Cockburn Town</td>\n",
       "      <td>TC</td>\n",
       "      <td>78.8</td>\n",
       "      <td>21.4612</td>\n",
       "      <td>-71.1419</td>\n",
       "      <td></td>\n",
       "    </tr>\n",
       "  </tbody>\n",
       "</table>\n",
       "</div>"
      ],
      "text/plain": [
       "            City Country  Max Temp      Lat      Lng Hotel Name\n",
       "0  Cockburn Town      TC      78.8  21.4612 -71.1419           "
      ]
     },
     "execution_count": 246,
     "metadata": {},
     "output_type": "execute_result"
    }
   ],
   "source": [
    "# Create DataFrame called hotel_df to store hotel names along with city, country, max temp, and coordinates.\n",
    "hotel_df = preferred_cities_df[[\"City\", \"Country\", \"Max Temp\", \"Lat\", \"Lng\"]].copy()\n",
    "hotel_df[\"Hotel Name\"] = \"\"\n",
    "hotel_df.head(10)"
   ]
  },
  {
   "cell_type": "code",
   "execution_count": 251,
   "metadata": {},
   "outputs": [
    {
     "data": {
      "text/plain": [
       "{'html_attributions': [],\n",
       " 'next_page_token': 'ATtYBwJBM4Zmns8uC-_jG8EZqUeSjwXExhm2oQgy3h0fK_yS8oN3UJQiyabZueiZPgv-4V16aUZVzcZqYj6Nv9SZXbAf4WkVXSijyv4bsgmGGhQ51Tk-YxV4mSw2OvhzPX8KPHhaGHZRDzm-3VYrv1gZB5qBxL9Xb16rJfhMJt7_PmOo6B_AsWzTQolvPzlQtKdCv2IBdxcIpcqejpRG8w8FgMw4FKQc9ooSzpnxMq9ps3e9MS3Q5NAfEkzeXWAtalkX1y6SsThwxneDRn22teU6S8c-1bkNQ04MHKTSTfBeTBmQfFChhigJzaNB01stOchvol8afJ1F2lrsHtsevTS59zwTFA-15vAM3oJ9E2HAw_2DRSLR4zNpElEk2mJtXxZyemfVJkuNltEY79FtM0WjhNN1vuIL-uVs8EjBnPXlZuRj4JncOMbgerhR',\n",
       " 'results': [{'business_status': 'OPERATIONAL',\n",
       "   'geometry': {'location': {'lat': 48.8581126, 'lng': 2.3529277},\n",
       "    'viewport': {'northeast': {'lat': 48.8594393802915,\n",
       "      'lng': 2.354352980291502},\n",
       "     'southwest': {'lat': 48.8567414197085, 'lng': 2.351655019708498}}},\n",
       "   'icon': 'https://maps.gstatic.com/mapfiles/place_api/icons/v1/png_71/lodging-71.png',\n",
       "   'name': 'Hôtel Duo',\n",
       "   'opening_hours': {'open_now': True},\n",
       "   'photos': [{'height': 3840,\n",
       "     'html_attributions': ['<a href=\"https://maps.google.com/maps/contrib/107554201425443337224\">Hôtel Duo</a>'],\n",
       "     'photo_reference': 'ATtYBwLyoMIs_pDZZWZtYaVKbS2Pu-3m5cOmyTy8YiidhbslHcW5VsPeyjcey3eUMb0f_pyKipQ5v8cEGRFT0_y0Vi_vSjqNWWbfVoKgCX_NGwAyFOLaq8d9lHylAHWdz_ffJCTkXLPAPmoeVz3v3_Fvbt3zL3ecdIiF5VSU5ghESCQ8OgMP',\n",
       "     'width': 5760}],\n",
       "   'place_id': 'ChIJWU9CqB1u5kcR5P1F2SMoJmc',\n",
       "   'plus_code': {'compound_code': 'V953+65 Paris, France',\n",
       "    'global_code': '8FW4V953+65'},\n",
       "   'rating': 4.2,\n",
       "   'reference': 'ChIJWU9CqB1u5kcR5P1F2SMoJmc',\n",
       "   'scope': 'GOOGLE',\n",
       "   'types': ['night_club',\n",
       "    'spa',\n",
       "    'lodging',\n",
       "    'bar',\n",
       "    'gym',\n",
       "    'health',\n",
       "    'point_of_interest',\n",
       "    'establishment'],\n",
       "   'user_ratings_total': 278,\n",
       "   'vicinity': '11 Rue du Temple, Paris'},\n",
       "  {'business_status': 'OPERATIONAL',\n",
       "   'geometry': {'location': {'lat': 48.8582861, 'lng': 2.3464944},\n",
       "    'viewport': {'northeast': {'lat': 48.8595495802915,\n",
       "      'lng': 2.347780980291502},\n",
       "     'southwest': {'lat': 48.8568516197085, 'lng': 2.345083019708498}}},\n",
       "   'icon': 'https://maps.gstatic.com/mapfiles/place_api/icons/v1/png_71/lodging-71.png',\n",
       "   'name': 'Hôtel Britannique',\n",
       "   'opening_hours': {'open_now': True},\n",
       "   'photos': [{'height': 546,\n",
       "     'html_attributions': ['<a href=\"https://maps.google.com/maps/contrib/108984000175492464929\">Hôtel Britannique - Paris Louvre</a>'],\n",
       "     'photo_reference': 'ATtYBwJak-VFuNvtGrXDB3XVI0oddhp4PYuJvGp0isZZe316feCeVNC7OZ2Hiui3tifIeh8RFxr2Au14Y1qIFbiIvHKZPQYHVYnBqpANFs4n_sWZ6NJYwptM451WeBvDfWKQfEI1Ap5KIqPtB2MtOJyrxJCNwRNn3o5gufVOCHozqNrlAgNJ',\n",
       "     'width': 1024}],\n",
       "   'place_id': 'ChIJ-4Siox9u5kcRm9vM6DcMXyU',\n",
       "   'plus_code': {'compound_code': 'V85W+8H Paris, France',\n",
       "    'global_code': '8FW4V85W+8H'},\n",
       "   'rating': 4.6,\n",
       "   'reference': 'ChIJ-4Siox9u5kcRm9vM6DcMXyU',\n",
       "   'scope': 'GOOGLE',\n",
       "   'types': ['lodging', 'point_of_interest', 'establishment'],\n",
       "   'user_ratings_total': 403,\n",
       "   'vicinity': '20 Avenue Victoria, Paris'},\n",
       "  {'business_status': 'CLOSED_TEMPORARILY',\n",
       "   'geometry': {'location': {'lat': 48.8606655, 'lng': 2.3469293},\n",
       "    'viewport': {'northeast': {'lat': 48.8618387802915,\n",
       "      'lng': 2.348475730291502},\n",
       "     'southwest': {'lat': 48.85914081970851, 'lng': 2.345777769708498}}},\n",
       "   'icon': 'https://maps.gstatic.com/mapfiles/place_api/icons/v1/png_71/lodging-71.png',\n",
       "   'name': 'Citadines Les Halles Paris (Apart Hotel Paris)',\n",
       "   'permanently_closed': True,\n",
       "   'photos': [{'height': 496,\n",
       "     'html_attributions': ['<a href=\"https://maps.google.com/maps/contrib/102565262508115704337\">Citadines Les Halles Paris (Apart Hotel Paris)</a>'],\n",
       "     'photo_reference': 'ATtYBwKxbK8hnW9-iF-djG0qITylymsyPUTohHkUQxwr-EhjotHvZbUGIU_x9Spb5Uo82X1c9ujeKdO4jGWnksNtqrYzV6IflK8uGBKECkOqsRQn8DG5NgY-HvW3y6uCkKhaSyotDi5sDwdbBXJh5Mf6Xo7fggOvGWLA6f8YUs-dTYonZGcW',\n",
       "     'width': 745}],\n",
       "   'place_id': 'ChIJQ_QDrxhu5kcRJzNxLLEOSfU',\n",
       "   'plus_code': {'compound_code': 'V86W+7Q Paris, France',\n",
       "    'global_code': '8FW4V86W+7Q'},\n",
       "   'rating': 4.1,\n",
       "   'reference': 'ChIJQ_QDrxhu5kcRJzNxLLEOSfU',\n",
       "   'scope': 'GOOGLE',\n",
       "   'types': ['lodging', 'point_of_interest', 'establishment'],\n",
       "   'user_ratings_total': 815,\n",
       "   'vicinity': '4 Rue des Innocents, Paris'},\n",
       "  {'business_status': 'OPERATIONAL',\n",
       "   'geometry': {'location': {'lat': 48.8607769, 'lng': 2.3463217},\n",
       "    'viewport': {'northeast': {'lat': 48.8620135802915,\n",
       "      'lng': 2.347597080291502},\n",
       "     'southwest': {'lat': 48.8593156197085, 'lng': 2.344899119708498}}},\n",
       "   'icon': 'https://maps.gstatic.com/mapfiles/place_api/icons/v1/png_71/lodging-71.png',\n",
       "   'name': 'Novotel Paris Les Halles',\n",
       "   'opening_hours': {'open_now': True},\n",
       "   'photos': [{'height': 2000,\n",
       "     'html_attributions': ['<a href=\"https://maps.google.com/maps/contrib/111815616573299411056\">Novotel</a>'],\n",
       "     'photo_reference': 'ATtYBwKw--rahBkKQI4nxpVIEspphtkB1RHAZd2oVyyH7mEnMaHbzJZ5g8BzV5CZSobiRgq7YfTL6pMsqkw3an_0jhg18gtejNXbCx2SI-G3OVWPQCS8X6h5hxr2Vyo0GaFE48yiGD3wmtkb1EH7Aicz5BeQQPNCN4HaRcZDdZ4VdYYyzdzT',\n",
       "     'width': 3000}],\n",
       "   'place_id': 'ChIJGW2pNx9u5kcRI3oyL8NG5BQ',\n",
       "   'plus_code': {'compound_code': 'V86W+8G Paris, France',\n",
       "    'global_code': '8FW4V86W+8G'},\n",
       "   'rating': 4.4,\n",
       "   'reference': 'ChIJGW2pNx9u5kcRI3oyL8NG5BQ',\n",
       "   'scope': 'GOOGLE',\n",
       "   'types': ['lodging', 'point_of_interest', 'establishment'],\n",
       "   'user_ratings_total': 2088,\n",
       "   'vicinity': '8 Place Marguerite de Navarre, Paris'},\n",
       "  {'business_status': 'OPERATIONAL',\n",
       "   'geometry': {'location': {'lat': 48.86034799999999, 'lng': 2.344054},\n",
       "    'viewport': {'northeast': {'lat': 48.8616503302915,\n",
       "      'lng': 2.345521080291502},\n",
       "     'southwest': {'lat': 48.8589523697085, 'lng': 2.342823119708498}}},\n",
       "   'icon': 'https://maps.gstatic.com/mapfiles/place_api/icons/v1/png_71/lodging-71.png',\n",
       "   'name': 'Hôtel Ducs de Bourgogne',\n",
       "   'opening_hours': {'open_now': True},\n",
       "   'photos': [{'height': 1390,\n",
       "     'html_attributions': ['<a href=\"https://maps.google.com/maps/contrib/101411638353598558320\">Best Western Premier Ducs de Bourgogne</a>'],\n",
       "     'photo_reference': 'ATtYBwINnXPJNxoc9acfVqALlYiwdqFg6QeWwIQdg0dqP0gezoGvorYx8etNRxBN6-YkNsUNxlRKPPSsQ5LfzbtIw4cvHmSIOJVKyP7Yq5DseX4p5SvnaxH5SKwY9jS6BBPQLzSviaY2O643gzllLU7Nffs1LkhGLplYKoYQUsYzZHED82uo',\n",
       "     'width': 2048}],\n",
       "   'place_id': 'ChIJifTG5yFu5kcRdnisbwxnAx4',\n",
       "   'plus_code': {'compound_code': 'V86V+4J Paris, France',\n",
       "    'global_code': '8FW4V86V+4J'},\n",
       "   'rating': 4.5,\n",
       "   'reference': 'ChIJifTG5yFu5kcRdnisbwxnAx4',\n",
       "   'scope': 'GOOGLE',\n",
       "   'types': ['lodging', 'point_of_interest', 'establishment'],\n",
       "   'user_ratings_total': 275,\n",
       "   'vicinity': '19 Rue du Pont Neuf, Paris'},\n",
       "  {'business_status': 'OPERATIONAL',\n",
       "   'geometry': {'location': {'lat': 48.8555091, 'lng': 2.3408736},\n",
       "    'viewport': {'northeast': {'lat': 48.8569076302915,\n",
       "      'lng': 2.342319280291502},\n",
       "     'southwest': {'lat': 48.8542096697085, 'lng': 2.339621319708498}}},\n",
       "   'icon': 'https://maps.gstatic.com/mapfiles/place_api/icons/v1/png_71/lodging-71.png',\n",
       "   'name': 'Citadines Saint-Germain-des-Prés Paris',\n",
       "   'opening_hours': {'open_now': True},\n",
       "   'photos': [{'height': 3024,\n",
       "     'html_attributions': ['<a href=\"https://maps.google.com/maps/contrib/107856881779358840274\">David O&#39;Meara</a>'],\n",
       "     'photo_reference': 'ATtYBwKfrGR7OxmcpxA18HCD12nKR1T9r5o7vB6hX_0XW8rMkdQE3nPYIy0y1SQWgUhF5rUftRCSfLA3ZD7KI2Y61NLUxI0peArD-9byNej9U4gg9hDCyV5rpN8-LCXXxTmAE2EV3bCBBJh95dpp-LBQ8ppr2_kznmtjJMTdhYRvMwxINigZ',\n",
       "     'width': 4032}],\n",
       "   'place_id': 'ChIJo5pYcN9x5kcRERXdocMgqmE',\n",
       "   'plus_code': {'compound_code': 'V84R+68 Paris, France',\n",
       "    'global_code': '8FW4V84R+68'},\n",
       "   'rating': 4.3,\n",
       "   'reference': 'ChIJo5pYcN9x5kcRERXdocMgqmE',\n",
       "   'scope': 'GOOGLE',\n",
       "   'types': ['lodging', 'point_of_interest', 'establishment'],\n",
       "   'user_ratings_total': 651,\n",
       "   'vicinity': '53 ter Quai des Grands Augustins, Paris'},\n",
       "  {'business_status': 'OPERATIONAL',\n",
       "   'geometry': {'location': {'lat': 48.86634659999999, 'lng': 2.36064},\n",
       "    'viewport': {'northeast': {'lat': 48.8677623302915,\n",
       "      'lng': 2.361952180291502},\n",
       "     'southwest': {'lat': 48.86506436970851, 'lng': 2.359254219708498}}},\n",
       "   'icon': 'https://maps.gstatic.com/mapfiles/place_api/icons/v1/png_71/lodging-71.png',\n",
       "   'name': 'Paris France Hôtel',\n",
       "   'opening_hours': {'open_now': True},\n",
       "   'photos': [{'height': 2673,\n",
       "     'html_attributions': ['<a href=\"https://maps.google.com/maps/contrib/102332962500946068613\">Paris France Hôtel</a>'],\n",
       "     'photo_reference': 'ATtYBwJ3Ab4dUhYF9tpxQK-ALk5__7u9-Cdist2fe-YNbY2AGrjext7EVuNRFIp1TNm8yaEcaTpSCNk8b1QJhPlm4816bdxfkiEOzgwv4lrlshQSRjHmcCVoNAM0qPB8EGoz6rUysEp0BoX2t7MBOQWhXGNZLgnO6e62Uophs0R2u_Aswy9T',\n",
       "     'width': 3463}],\n",
       "   'place_id': 'ChIJhXWLZg9u5kcRDVyqoZYgcmg',\n",
       "   'plus_code': {'compound_code': 'V986+G7 Paris, France',\n",
       "    'global_code': '8FW4V986+G7'},\n",
       "   'rating': 4.3,\n",
       "   'reference': 'ChIJhXWLZg9u5kcRDVyqoZYgcmg',\n",
       "   'scope': 'GOOGLE',\n",
       "   'types': ['lodging', 'point_of_interest', 'establishment'],\n",
       "   'user_ratings_total': 374,\n",
       "   'vicinity': '72 Rue de Turbigo, Paris'},\n",
       "  {'business_status': 'OPERATIONAL',\n",
       "   'geometry': {'location': {'lat': 48.86386539999999, 'lng': 2.3325488},\n",
       "    'viewport': {'northeast': {'lat': 48.8652309302915,\n",
       "      'lng': 2.333762030291502},\n",
       "     'southwest': {'lat': 48.8625329697085, 'lng': 2.331064069708498}}},\n",
       "   'icon': 'https://maps.gstatic.com/mapfiles/place_api/icons/v1/png_71/lodging-71.png',\n",
       "   'name': 'Hotel Regina Louvre',\n",
       "   'opening_hours': {'open_now': True},\n",
       "   'photos': [{'height': 3700,\n",
       "     'html_attributions': ['<a href=\"https://maps.google.com/maps/contrib/109908333790946649027\">Hôtel Regina Louvre</a>'],\n",
       "     'photo_reference': 'ATtYBwJU5_n5gIKnde8YzXIw3ctWTICjVJRwHOK1Ju1UeITVsplhpVnSyluhJFZI4_V77BujcPia1EljevjYm8uNpIKyrJppeZ1FyjcONCTos-Ll6ccmXNbjuHHRAg-3RIaCP8YfSoT505IfQygU3PiXxmCvYJ8IaknJ-StMk-5VJw1nf36J',\n",
       "     'width': 5550}],\n",
       "   'place_id': 'ChIJP_-HCS9u5kcRsj9b1x7Pl8w',\n",
       "   'plus_code': {'compound_code': 'V87M+G2 Paris, France',\n",
       "    'global_code': '8FW4V87M+G2'},\n",
       "   'rating': 4.5,\n",
       "   'reference': 'ChIJP_-HCS9u5kcRsj9b1x7Pl8w',\n",
       "   'scope': 'GOOGLE',\n",
       "   'types': ['lodging',\n",
       "    'bar',\n",
       "    'restaurant',\n",
       "    'food',\n",
       "    'point_of_interest',\n",
       "    'establishment'],\n",
       "   'user_ratings_total': 501,\n",
       "   'vicinity': '2 Place des Pyramides, Paris'},\n",
       "  {'business_status': 'OPERATIONAL',\n",
       "   'geometry': {'location': {'lat': 48.84795229999999, 'lng': 2.370869},\n",
       "    'viewport': {'northeast': {'lat': 48.84922153029149,\n",
       "      'lng': 2.372321980291502},\n",
       "     'southwest': {'lat': 48.84652356970849, 'lng': 2.369624019708498}}},\n",
       "   'icon': 'https://maps.gstatic.com/mapfiles/place_api/icons/v1/png_71/lodging-71.png',\n",
       "   'name': 'ibis Paris Gare de Lyon Ledru Rollin 12ème',\n",
       "   'opening_hours': {'open_now': True},\n",
       "   'photos': [{'height': 3024,\n",
       "     'html_attributions': ['<a href=\"https://maps.google.com/maps/contrib/102166088584622554231\">cherry pyj</a>'],\n",
       "     'photo_reference': 'ATtYBwKc7PQ29R8KI32jjxfQ7oDNWNhSKc5dac0sCPGEySBq-QwF9XyBK10Xlm-J_spLgg9MyotonZ5mkWKIpgxlKu9_hrFJ0RVE9aFeNVCqVtjdd0OOnvU7XEWb7v-ypyTjK4RuEHSsZjzqKWh85xUPTOuHogNDM1JKjsR4tRz01b4IXlpc',\n",
       "     'width': 4032}],\n",
       "   'place_id': 'ChIJ9RNxcQNy5kcRnZJ4vsuXcow',\n",
       "   'plus_code': {'compound_code': 'R9XC+58 Paris, France',\n",
       "    'global_code': '8FW4R9XC+58'},\n",
       "   'rating': 4,\n",
       "   'reference': 'ChIJ9RNxcQNy5kcRnZJ4vsuXcow',\n",
       "   'scope': 'GOOGLE',\n",
       "   'types': ['lodging', 'point_of_interest', 'establishment'],\n",
       "   'user_ratings_total': 748,\n",
       "   'vicinity': '41/43 Avenue Ledru Rollin, Paris'},\n",
       "  {'business_status': 'OPERATIONAL',\n",
       "   'geometry': {'location': {'lat': 48.8475464, 'lng': 2.3718722},\n",
       "    'viewport': {'northeast': {'lat': 48.8488750302915,\n",
       "      'lng': 2.373125480291502},\n",
       "     'southwest': {'lat': 48.8461770697085, 'lng': 2.370427519708498}}},\n",
       "   'icon': 'https://maps.gstatic.com/mapfiles/place_api/icons/v1/png_71/lodging-71.png',\n",
       "   'name': 'Hôtel De France Gare de Lyon Bastille',\n",
       "   'photos': [{'height': 4000,\n",
       "     'html_attributions': ['<a href=\"https://maps.google.com/maps/contrib/112792427704207973717\">salva ubeda</a>'],\n",
       "     'photo_reference': 'ATtYBwJ6kfuDXuCxhUZI04wJyFHuX-jtlsa9EUHk1vptq39rHyX1t1HDCsQ1idykkJ9L6rdE69vCY6U-K0j-TwF2U0pAs8sXwX33H2dylbkWpECj6FvZeqgdAjEz41Gmtyl9DInpq6r1yHN1Mp-I9xlCj_7LWsxx8eHGGz6FQaDsr1S56-Yc',\n",
       "     'width': 6000}],\n",
       "   'place_id': 'ChIJz6DBYgNy5kcRhOu1LhDIECM',\n",
       "   'plus_code': {'compound_code': 'R9XC+2P Paris, France',\n",
       "    'global_code': '8FW4R9XC+2P'},\n",
       "   'rating': 3.3,\n",
       "   'reference': 'ChIJz6DBYgNy5kcRhOu1LhDIECM',\n",
       "   'scope': 'GOOGLE',\n",
       "   'types': ['lodging', 'point_of_interest', 'establishment'],\n",
       "   'user_ratings_total': 380,\n",
       "   'vicinity': '12 Rue de Lyon, Paris'},\n",
       "  {'business_status': 'OPERATIONAL',\n",
       "   'geometry': {'location': {'lat': 48.8717386, 'lng': 2.3447052},\n",
       "    'viewport': {'northeast': {'lat': 48.8731394302915,\n",
       "      'lng': 2.346067130291502},\n",
       "     'southwest': {'lat': 48.8704414697085, 'lng': 2.343369169708498}}},\n",
       "   'icon': 'https://maps.gstatic.com/mapfiles/place_api/icons/v1/png_71/lodging-71.png',\n",
       "   'name': 'Hôtel Prélude Opéra',\n",
       "   'photos': [{'height': 4000,\n",
       "     'html_attributions': ['<a href=\"https://maps.google.com/maps/contrib/110158133027602673318\">Marisa Pretto</a>'],\n",
       "     'photo_reference': 'ATtYBwKJTlPyJ3v1jHpfIqndzTkxUcEPs54rLRl-d9LzgOO15fqjwF1WHa-YKeXPvAnkEs_n78iK8gdPYzHpf9LiNy-HFu4knRdoybI-V9AGak8JMjUv-MHz2YPuOl03a9nWX_kyJXUlKW9BB1_ib_gAHHlC0uQBTnubx-ZLKhbQpaJh6VAy',\n",
       "     'width': 3000}],\n",
       "   'place_id': 'ChIJ8e3Qcj5u5kcR2MIGwNxustk',\n",
       "   'plus_code': {'compound_code': 'V8CV+MV Paris, France',\n",
       "    'global_code': '8FW4V8CV+MV'},\n",
       "   'rating': 4,\n",
       "   'reference': 'ChIJ8e3Qcj5u5kcR2MIGwNxustk',\n",
       "   'scope': 'GOOGLE',\n",
       "   'types': ['lodging', 'point_of_interest', 'establishment'],\n",
       "   'user_ratings_total': 311,\n",
       "   'vicinity': '8 Cité Bergère, Paris'},\n",
       "  {'business_status': 'OPERATIONAL',\n",
       "   'geometry': {'location': {'lat': 48.8423491, 'lng': 2.3632246},\n",
       "    'viewport': {'northeast': {'lat': 48.84365308029151,\n",
       "      'lng': 2.364707180291502},\n",
       "     'southwest': {'lat': 48.84095511970851, 'lng': 2.362009219708498}}},\n",
       "   'icon': 'https://maps.gstatic.com/mapfiles/place_api/icons/v1/png_71/lodging-71.png',\n",
       "   'name': 'Hôtel Libertel Austerlitz Jardin des Plantes',\n",
       "   'opening_hours': {'open_now': True},\n",
       "   'photos': [{'height': 4480,\n",
       "     'html_attributions': ['<a href=\"https://maps.google.com/maps/contrib/114802271282641766772\">Hôtel Libertel Austerlitz Jardin des Plantes</a>'],\n",
       "     'photo_reference': 'ATtYBwIvNPS17bXTTku6YbqIQ0WFoo9rnTNPFFYTW0Bp8vUlpLWkJSStqcGNC26ogtQUQfmVm7M-F8-wLidnpgelgRTHhQA1D05scZCwRD0ZBFYnDFvEkN3cKIsG73uqh-FVcrUK32bxwlVcYHrNABHomTXeBP-vXa1ytYEEjodz8GkakkJr',\n",
       "     'width': 6720}],\n",
       "   'place_id': 'ChIJe-udXPZx5kcRKURHNFv5BSw',\n",
       "   'plus_code': {'compound_code': 'R9R7+W7 Paris, France',\n",
       "    'global_code': '8FW4R9R7+W7'},\n",
       "   'rating': 4,\n",
       "   'reference': 'ChIJe-udXPZx5kcRKURHNFv5BSw',\n",
       "   'scope': 'GOOGLE',\n",
       "   'types': ['lodging', 'point_of_interest', 'establishment'],\n",
       "   'user_ratings_total': 433,\n",
       "   'vicinity': \"12 Boulevard de l'Hôpital, Paris\"},\n",
       "  {'business_status': 'OPERATIONAL',\n",
       "   'geometry': {'location': {'lat': 48.864294, 'lng': 2.3307997},\n",
       "    'viewport': {'northeast': {'lat': 48.8655898302915,\n",
       "      'lng': 2.332108780291502},\n",
       "     'southwest': {'lat': 48.8628918697085, 'lng': 2.329410819708498}}},\n",
       "   'icon': 'https://maps.gstatic.com/mapfiles/place_api/icons/v1/png_71/lodging-71.png',\n",
       "   'name': 'Saint James Albany Paris Hôtel Spa',\n",
       "   'opening_hours': {'open_now': True},\n",
       "   'photos': [{'height': 1365,\n",
       "     'html_attributions': ['<a href=\"https://maps.google.com/maps/contrib/108570400659068256718\">Saint James Albany Paris Hôtel Spa</a>'],\n",
       "     'photo_reference': 'ATtYBwIF5bmCFY5-QINCFX9k7dp74fEvC-FYp2X9LKEr512zBZ4CExugooqs96DBp4HVnMgTs-nfRjEEK3bWAjZ8Lw7C2KKa1toQD_STU5LSTyxfKwVV55U1gGwdJuEg_Jx2D2hvghD5ZvtedwoTE10JC8yd0Zn_ZyPiqQZ6Kb8v1Lv6BMzt',\n",
       "     'width': 2048}],\n",
       "   'place_id': 'ChIJ8znTVS5u5kcREq8TmzOICFs',\n",
       "   'plus_code': {'compound_code': 'V87J+P8 Paris, France',\n",
       "    'global_code': '8FW4V87J+P8'},\n",
       "   'rating': 4,\n",
       "   'reference': 'ChIJ8znTVS5u5kcREq8TmzOICFs',\n",
       "   'scope': 'GOOGLE',\n",
       "   'types': ['lodging',\n",
       "    'bar',\n",
       "    'restaurant',\n",
       "    'food',\n",
       "    'point_of_interest',\n",
       "    'establishment'],\n",
       "   'user_ratings_total': 1072,\n",
       "   'vicinity': '202 Rue de Rivoli, Paris'},\n",
       "  {'business_status': 'OPERATIONAL',\n",
       "   'geometry': {'location': {'lat': 48.87110329999999, 'lng': 2.3389728},\n",
       "    'viewport': {'northeast': {'lat': 48.8724296802915,\n",
       "      'lng': 2.340311380291502},\n",
       "     'southwest': {'lat': 48.8697317197085, 'lng': 2.337613419708498}}},\n",
       "   'icon': 'https://maps.gstatic.com/mapfiles/place_api/icons/v1/png_71/lodging-71.png',\n",
       "   'name': 'Hôtel Icône',\n",
       "   'opening_hours': {'open_now': True},\n",
       "   'photos': [{'height': 1066,\n",
       "     'html_attributions': ['<a href=\"https://maps.google.com/maps/contrib/108137830440312077288\">Hôtel Icône</a>'],\n",
       "     'photo_reference': 'ATtYBwJWQiFWmNMIv0RXIWR_vCEDokbzHSHzV655hD0ZaxIq9m4WVVM-hhfAOPx933Jb63Dk1HewxC9NdGKLF7VsSDjTlbThS3Jph5iEnuluuxzdSoaHq-WO4vAmtkGpS8VS6x9m9w2DWVB-LMKj0lTFj4TOPtHI3UlQfcWUrd1woK1PjiUL',\n",
       "     'width': 1600}],\n",
       "   'place_id': 'ChIJpQvq5Dtu5kcR0COam2f7v_I',\n",
       "   'plus_code': {'compound_code': 'V8CQ+CH Paris, France',\n",
       "    'global_code': '8FW4V8CQ+CH'},\n",
       "   'rating': 3.7,\n",
       "   'reference': 'ChIJpQvq5Dtu5kcR0COam2f7v_I',\n",
       "   'scope': 'GOOGLE',\n",
       "   'types': ['lodging', 'point_of_interest', 'establishment'],\n",
       "   'user_ratings_total': 135,\n",
       "   'vicinity': \"4 Rue d'Amboise, Paris\"},\n",
       "  {'business_status': 'OPERATIONAL',\n",
       "   'geometry': {'location': {'lat': 48.8654924, 'lng': 2.3271121},\n",
       "    'viewport': {'northeast': {'lat': 48.8667867302915,\n",
       "      'lng': 2.328593580291502},\n",
       "     'southwest': {'lat': 48.8640887697085, 'lng': 2.325895619708498}}},\n",
       "   'icon': 'https://maps.gstatic.com/mapfiles/place_api/icons/v1/png_71/lodging-71.png',\n",
       "   'name': 'The Westin Paris - Vendôme',\n",
       "   'opening_hours': {'open_now': True},\n",
       "   'photos': [{'height': 810,\n",
       "     'html_attributions': ['<a href=\"https://maps.google.com/maps/contrib/105819208076758962074\">The Westin Paris - Vendôme</a>'],\n",
       "     'photo_reference': 'ATtYBwIxhDo-aGgqheA-OcHzSaU3yN7VcradCawdzwVOYTTsnpg2eegIS6C5jE9QcnXiwZxgQf9EHejL6QfboRMmVCxb3vujXYI5QXsv-1VwPk8nQGOLIlTO7fR8ruqpMuVNDiW6KYH41AgnzlvrBNKoJe5P7TFV_zniMw0VJpSqKIF3ZH4C',\n",
       "     'width': 1440}],\n",
       "   'place_id': 'ChIJt4LY5C1u5kcRvVeuJebPxHc',\n",
       "   'plus_code': {'compound_code': 'V88G+5R Paris, France',\n",
       "    'global_code': '8FW4V88G+5R'},\n",
       "   'rating': 4.4,\n",
       "   'reference': 'ChIJt4LY5C1u5kcRvVeuJebPxHc',\n",
       "   'scope': 'GOOGLE',\n",
       "   'types': ['lodging', 'point_of_interest', 'establishment'],\n",
       "   'user_ratings_total': 2041,\n",
       "   'vicinity': '3 Rue de Castiglione, Paris'},\n",
       "  {'business_status': 'OPERATIONAL',\n",
       "   'geometry': {'location': {'lat': 48.86038899999999, 'lng': 2.323112},\n",
       "    'viewport': {'northeast': {'lat': 48.8617804302915,\n",
       "      'lng': 2.324489280291502},\n",
       "     'southwest': {'lat': 48.8590824697085, 'lng': 2.321791319708499}}},\n",
       "   'icon': 'https://maps.gstatic.com/mapfiles/place_api/icons/v1/png_71/lodging-71.png',\n",
       "   'name': \"Hôtel d'Orsay\",\n",
       "   'opening_hours': {'open_now': True},\n",
       "   'photos': [{'height': 768,\n",
       "     'html_attributions': ['<a href=\"https://maps.google.com/maps/contrib/115556676131195822021\">Hôtel 4 étoile d&#39;Orsay Paris 7ème</a>'],\n",
       "     'photo_reference': 'ATtYBwLCMZ36ZXI5jEqx_i7MKcCKu59TF25zDBTqqb2ZwxApl-H6zFxmQ-88m-Sn3vZ1JqEpE4_42bar-CU3LScQJBtR19579NSEJGCP1QQRnbl2-d5-kcxW1kfOBKwpsauRitstOzeOOp78hKm79XROr5WImGIOYhi_SXVGS40ZjFamOA8w',\n",
       "     'width': 1152}],\n",
       "   'place_id': 'ChIJu39_OCtu5kcRWVQ7SFa0J-k',\n",
       "   'plus_code': {'compound_code': 'V86F+56 Paris, France',\n",
       "    'global_code': '8FW4V86F+56'},\n",
       "   'rating': 4.6,\n",
       "   'reference': 'ChIJu39_OCtu5kcRWVQ7SFa0J-k',\n",
       "   'scope': 'GOOGLE',\n",
       "   'types': ['lodging', 'point_of_interest', 'establishment'],\n",
       "   'user_ratings_total': 207,\n",
       "   'vicinity': '93 Rue de Lille, Paris'},\n",
       "  {'business_status': 'OPERATIONAL',\n",
       "   'geometry': {'location': {'lat': 48.8661363, 'lng': 2.3260648},\n",
       "    'viewport': {'northeast': {'lat': 48.8674534302915,\n",
       "      'lng': 2.327513280291502},\n",
       "     'southwest': {'lat': 48.8647554697085, 'lng': 2.324815319708498}}},\n",
       "   'icon': 'https://maps.gstatic.com/mapfiles/place_api/icons/v1/png_71/lodging-71.png',\n",
       "   'name': 'Hôtel Mayfair Paris',\n",
       "   'opening_hours': {'open_now': True},\n",
       "   'photos': [{'height': 1365,\n",
       "     'html_attributions': ['<a href=\"https://maps.google.com/maps/contrib/113789389085635834164\">Hôtel Mayfair Paris</a>'],\n",
       "     'photo_reference': 'ATtYBwICODzb5TlX_PcGGG3HItvzA6wsG1MJQ2NEtra_6rFlkwil30Wy_k0MH-QW8KGxpbcUPMq7pnM665Y3gw6ecnH5_ALSN-4u6Tanec8vAlP6DAah_PnScBMCdEeRpdjr5-w7I-Gi7B4Qq-Oqhpp9h1iW9hNKFPCXt6zQAzkc3tSQQrgy',\n",
       "     'width': 2048}],\n",
       "   'place_id': 'ChIJTXVIhS1u5kcRlm9-RG0srQs',\n",
       "   'plus_code': {'compound_code': 'V88G+FC Paris, France',\n",
       "    'global_code': '8FW4V88G+FC'},\n",
       "   'rating': 4.2,\n",
       "   'reference': 'ChIJTXVIhS1u5kcRlm9-RG0srQs',\n",
       "   'scope': 'GOOGLE',\n",
       "   'types': ['lodging', 'point_of_interest', 'establishment'],\n",
       "   'user_ratings_total': 245,\n",
       "   'vicinity': '3 Rue Rouget de Lisle, Paris'},\n",
       "  {'business_status': 'OPERATIONAL',\n",
       "   'geometry': {'location': {'lat': 48.8758937, 'lng': 2.3591167},\n",
       "    'viewport': {'northeast': {'lat': 48.8772932302915,\n",
       "      'lng': 2.360447230291502},\n",
       "     'southwest': {'lat': 48.8745952697085, 'lng': 2.357749269708498}}},\n",
       "   'icon': 'https://maps.gstatic.com/mapfiles/place_api/icons/v1/png_71/lodging-71.png',\n",
       "   'name': \"Holiday Inn Paris - Gare de L'Estates\",\n",
       "   'opening_hours': {'open_now': True},\n",
       "   'photos': [{'height': 1366,\n",
       "     'html_attributions': ['<a href=\"https://maps.google.com/maps/contrib/102027969916801631519\">Holiday Inn Paris - Gare de L&#39;Estates</a>'],\n",
       "     'photo_reference': 'ATtYBwJG6ZWgdpuVoEizC-gTa3r45hB3BJlb-TLFs-ilBqYAgwAaQ1-xzb7nqWZpvj51CtodGH2Mgc4dPSpqA9ZN0ltUXxfP8zclTfuwMV60PCw16PENAT0DTSd429QlK_jwvP3U7Eictfvsh3xq8fl-upfjZLmoFi9hZjKPfNWgJ-Rk-3Vz',\n",
       "     'width': 2048}],\n",
       "   'place_id': 'ChIJwUHJSg1u5kcRhNqw_oQNeKI',\n",
       "   'plus_code': {'compound_code': 'V9G5+9J Paris, France',\n",
       "    'global_code': '8FW4V9G5+9J'},\n",
       "   'rating': 3.8,\n",
       "   'reference': 'ChIJwUHJSg1u5kcRhNqw_oQNeKI',\n",
       "   'scope': 'GOOGLE',\n",
       "   'types': ['lodging', 'point_of_interest', 'establishment'],\n",
       "   'user_ratings_total': 1526,\n",
       "   'vicinity': '5, 45 Rue du 8 Mai 1945, Paris'},\n",
       "  {'business_status': 'OPERATIONAL',\n",
       "   'geometry': {'location': {'lat': 48.8722237, 'lng': 2.3333825},\n",
       "    'viewport': {'northeast': {'lat': 48.8734762802915,\n",
       "      'lng': 2.334606530291502},\n",
       "     'southwest': {'lat': 48.8707783197085, 'lng': 2.331908569708498}}},\n",
       "   'icon': 'https://maps.gstatic.com/mapfiles/place_api/icons/v1/png_71/lodging-71.png',\n",
       "   'name': 'W Paris - Opéra',\n",
       "   'opening_hours': {'open_now': True},\n",
       "   'photos': [{'height': 810,\n",
       "     'html_attributions': ['<a href=\"https://maps.google.com/maps/contrib/104505592247314929752\">W Paris - Opéra</a>'],\n",
       "     'photo_reference': 'ATtYBwL8SELgILKKHoqTfC63v5FAVJEoLtTV79tSaFmu5S-6JogwaIPdICWzW2CrWI1zu-oxUetDGxnFgwBACKnMHAlkbMR1ME6uR7ilsEUD-3FM3r5PbsT1MFBH2bvel5k79OWAgqKigYLTA3NhQpij5jMTVyXTGC_hVQCzZfvcaLnRQzVn',\n",
       "     'width': 1440}],\n",
       "   'place_id': 'ChIJiVMcgTRu5kcRbXfOviG7AqI',\n",
       "   'plus_code': {'compound_code': 'V8CM+V9 Paris, France',\n",
       "    'global_code': '8FW4V8CM+V9'},\n",
       "   'rating': 4.2,\n",
       "   'reference': 'ChIJiVMcgTRu5kcRbXfOviG7AqI',\n",
       "   'scope': 'GOOGLE',\n",
       "   'types': ['lodging', 'point_of_interest', 'establishment'],\n",
       "   'user_ratings_total': 491,\n",
       "   'vicinity': '4 Rue Meyerbeer, Paris'},\n",
       "  {'business_status': 'OPERATIONAL',\n",
       "   'geometry': {'location': {'lat': 48.8708361, 'lng': 2.3307253},\n",
       "    'viewport': {'northeast': {'lat': 48.8722390802915,\n",
       "      'lng': 2.331806380291502},\n",
       "     'southwest': {'lat': 48.8695411197085, 'lng': 2.329108419708498}}},\n",
       "   'icon': 'https://maps.gstatic.com/mapfiles/place_api/icons/v1/png_71/lodging-71.png',\n",
       "   'name': 'InterContinental Paris - Le Grand',\n",
       "   'photos': [{'height': 1339,\n",
       "     'html_attributions': ['<a href=\"https://maps.google.com/maps/contrib/107945298839607703601\">InterContinental Paris - Le Grand</a>'],\n",
       "     'photo_reference': 'ATtYBwJvsCHa47qG80lH6HRaZROzPlGr5lWHghRnCrOYNsAspTTaj-kIkOuaRmkNs5fsiAk9DQQgTmko08V0ReS5eHFtQokZ6Z68Wj7tgce2AJzRZz0-VH2eO4BJ0JkfWIR6jfir8QlA49yQLVlcl0LARAmFP4HNeIC1QVXIr90XmHFXm65z',\n",
       "     'width': 2048}],\n",
       "   'place_id': 'ChIJt4LY5C1u5kcRZmZx4KyzhVM',\n",
       "   'plus_code': {'compound_code': 'V8CJ+87 Paris, France',\n",
       "    'global_code': '8FW4V8CJ+87'},\n",
       "   'rating': 4.6,\n",
       "   'reference': 'ChIJt4LY5C1u5kcRZmZx4KyzhVM',\n",
       "   'scope': 'GOOGLE',\n",
       "   'types': ['lodging', 'point_of_interest', 'establishment'],\n",
       "   'user_ratings_total': 2400,\n",
       "   'vicinity': '2 Rue Scribe, Paris'}],\n",
       " 'status': 'OK'}"
      ]
     },
     "execution_count": 251,
     "metadata": {},
     "output_type": "execute_result"
    }
   ],
   "source": [
    "# Set the parameters to search for a hotel in Paris.\n",
    "params = {\n",
    "    \"radius\": 5000,\n",
    "    \"types\": \"lodging\",\n",
    "    \"key\": g_key,\n",
    "    \"location\": \"48.8566, 2.3522\"}\n",
    "# Use base URL to search for hotels in Paris.\n",
    "base_url = \"https://maps.googleapis.com/maps/api/place/nearbysearch/json\"\n",
    "# Make request and get the JSON data from the search.\n",
    "hotels = requests.get(base_url, params=params).json()\n",
    "\n",
    "hotels"
   ]
  },
  {
   "cell_type": "code",
   "execution_count": 257,
   "metadata": {},
   "outputs": [
    {
     "data": {
      "text/html": [
       "<div>\n",
       "<style scoped>\n",
       "    .dataframe tbody tr th:only-of-type {\n",
       "        vertical-align: middle;\n",
       "    }\n",
       "\n",
       "    .dataframe tbody tr th {\n",
       "        vertical-align: top;\n",
       "    }\n",
       "\n",
       "    .dataframe thead th {\n",
       "        text-align: right;\n",
       "    }\n",
       "</style>\n",
       "<table border=\"1\" class=\"dataframe\">\n",
       "  <thead>\n",
       "    <tr style=\"text-align: right;\">\n",
       "      <th></th>\n",
       "      <th>City</th>\n",
       "      <th>Country</th>\n",
       "      <th>Max Temp</th>\n",
       "      <th>Lat</th>\n",
       "      <th>Lng</th>\n",
       "      <th>Hotel Name</th>\n",
       "    </tr>\n",
       "  </thead>\n",
       "  <tbody>\n",
       "    <tr>\n",
       "      <th>0</th>\n",
       "      <td>Cockburn Town</td>\n",
       "      <td>TC</td>\n",
       "      <td>78.8</td>\n",
       "      <td>21.4612</td>\n",
       "      <td>-71.1419</td>\n",
       "      <td>Osprey Beach Hotel</td>\n",
       "    </tr>\n",
       "  </tbody>\n",
       "</table>\n",
       "</div>"
      ],
      "text/plain": [
       "            City Country  Max Temp      Lat      Lng          Hotel Name\n",
       "0  Cockburn Town      TC      78.8  21.4612 -71.1419  Osprey Beach Hotel"
      ]
     },
     "execution_count": 257,
     "metadata": {},
     "output_type": "execute_result"
    }
   ],
   "source": [
    "# Iterate through the DataFrame.\n",
    "for index, row in hotel_df.iterrows():\n",
    "    # Get the latitude and longitude.\n",
    "    lat = row[\"Lat\"]\n",
    "    lng = row[\"Lng\"]\n",
    "\n",
    "    # Add the latitude and longitude to location key for the params dictionary.\n",
    "    params[\"location\"] = f\"{lat},{lng}\"\n",
    "\n",
    "    # Use the search term: \"lodging\" and our latitude and longitude.\n",
    "    base_url = \"https://maps.googleapis.com/maps/api/place/nearbysearch/json\"\n",
    "    # Make request and get the JSON data from the search.\n",
    "    hotels = requests.get(base_url, params=params).json()\n",
    "    # Grab the first hotel from the results and store the name.\n",
    "    try:\n",
    "        hotel_df.loc[index, \"Hotel Name\"] = hotels[\"results\"][0][\"name\"]\n",
    "    except (IndexError):\n",
    "        print(\"Hotel not found... skipping.\")\n",
    "hotel_df.head(10)"
   ]
  },
  {
   "cell_type": "code",
   "execution_count": 273,
   "metadata": {},
   "outputs": [
    {
     "data": {
      "application/vnd.jupyter.widget-view+json": {
       "model_id": "c001400ebf8c42378054feb511d67daa",
       "version_major": 2,
       "version_minor": 0
      },
      "text/plain": [
       "Figure(layout=FigureLayout(height='420px'))"
      ]
     },
     "metadata": {},
     "output_type": "display_data"
    }
   ],
   "source": [
    "# Add a heatmap of temperature for the vacation spots.\n",
    "locations = hotel_df[[\"Lat\", \"Lng\"]]\n",
    "max_temp = hotel_df[\"Max Temp\"]\n",
    "fig = gmaps.figure(center=(30.0, 31.0), zoom_level=1.5)\n",
    "heat_layer = gmaps.heatmap_layer(locations, weights=max_temp, dissipating=False,\n",
    "             max_intensity=300, point_radius=4)\n",
    "\n",
    "fig.add_layer(heat_layer)\n",
    "# Call the figure to plot the data.\n",
    "fig"
   ]
  },
  {
   "cell_type": "code",
   "execution_count": 274,
   "metadata": {},
   "outputs": [
    {
     "data": {
      "application/vnd.jupyter.widget-view+json": {
       "model_id": "ce81a51bee1141548ddfbdd197f47a1a",
       "version_major": 2,
       "version_minor": 0
      },
      "text/plain": [
       "Figure(layout=FigureLayout(height='420px'))"
      ]
     },
     "metadata": {},
     "output_type": "display_data"
    }
   ],
   "source": [
    "# Add a heatmap of temperature for the vacation spots and marker for each city.\n",
    "locations = hotel_df[[\"Lat\", \"Lng\"]]\n",
    "max_temp = hotel_df[\"Max Temp\"]\n",
    "fig = gmaps.figure(center=(30.0, 31.0), zoom_level=1.5)\n",
    "heat_layer = gmaps.heatmap_layer(locations, weights=max_temp,\n",
    "             dissipating=False, max_intensity=300, point_radius=4)\n",
    "marker_layer = gmaps.marker_layer(locations)\n",
    "fig.add_layer(heat_layer)\n",
    "fig.add_layer(marker_layer)\n",
    "# Call the figure to plot the data.\n",
    "fig"
   ]
  },
  {
   "cell_type": "code",
   "execution_count": 275,
   "metadata": {},
   "outputs": [],
   "source": [
    "info_box_template = \"\"\"\n",
    "<dl>\n",
    "<dt>Hotel Name</dt><dd>{Hotel Name}</dd>\n",
    "<dt>City</dt><dd>{City}</dd>\n",
    "<dt>Country</dt><dd>{Country}</dd>\n",
    "<dt>Max Temp</dt><dd>{Max Temp} °F</dd>\n",
    "</dl>\n",
    "\"\"\"\n",
    "# Store the DataFrame Row.\n",
    "hotel_info = [info_box_template.format(**row) for index, row in hotel_df.iterrows()]"
   ]
  },
  {
   "cell_type": "code",
   "execution_count": 276,
   "metadata": {},
   "outputs": [
    {
     "data": {
      "application/vnd.jupyter.widget-view+json": {
       "model_id": "798d36f9cfa44832aca01781faeb6fba",
       "version_major": 2,
       "version_minor": 0
      },
      "text/plain": [
       "Figure(layout=FigureLayout(height='420px'))"
      ]
     },
     "metadata": {},
     "output_type": "display_data"
    }
   ],
   "source": [
    "# Add a heatmap of temperature for the vacation spots and a pop-up marker for each city.\n",
    "locations = hotel_df[[\"Lat\", \"Lng\"]]\n",
    "max_temp = hotel_df[\"Max Temp\"]\n",
    "fig = gmaps.figure(center=(30.0, 31.0), zoom_level=1.5)\n",
    "heat_layer = gmaps.heatmap_layer(locations, weights=max_temp,dissipating=False,\n",
    "             max_intensity=300, point_radius=4)\n",
    "marker_layer = gmaps.marker_layer(locations, info_box_content=hotel_info)\n",
    "fig.add_layer(heat_layer)\n",
    "fig.add_layer(marker_layer)\n",
    "\n",
    "# Call the figure to plot the data.\n",
    "fig"
   ]
  },
  {
   "cell_type": "code",
   "execution_count": null,
   "metadata": {},
   "outputs": [],
   "source": []
  }
 ],
 "metadata": {
  "kernelspec": {
   "display_name": "Python 3",
   "language": "python",
   "name": "python3"
  },
  "language_info": {
   "codemirror_mode": {
    "name": "ipython",
    "version": 3
   },
   "file_extension": ".py",
   "mimetype": "text/x-python",
   "name": "python",
   "nbconvert_exporter": "python",
   "pygments_lexer": "ipython3",
   "version": "3.8.5"
  }
 },
 "nbformat": 4,
 "nbformat_minor": 4
}
